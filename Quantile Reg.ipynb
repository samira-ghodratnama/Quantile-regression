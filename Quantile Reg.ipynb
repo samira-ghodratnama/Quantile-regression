{
  "cells": [
    {
      "cell_type": "markdown",
      "metadata": {
        "id": "YhsaN5tf2Hf2"
      },
      "source": [
        "# **Problem Statement:**\n",
        "Can you use Machine Learning to estimate, as precisely as possible, the uncertainty distribution of a household’s total monthly expenses?\n",
        "\n",
        "**Dataset:**\n",
        "The input features include consumer id, year, month, education level, age of the reference person, family size, urban residency, race, region of residency, state of residency, marital status, occupation, annual income (income), and consumer unit weight.\n",
        "The consumer unit weight shows how much a row is representative of US population. The target variable is the monthly expense column.\n",
        "\n",
        "Assume that occupation, marital status, state, region, race, urban are categorical variables, education is an ordinal variable.\n",
        "\n",
        "Notice that multiple age, education, race, and income are individual features of the reference person in a potential household while total expenses is a household-level variable.\n",
        "\n",
        "\n",
        "**Evaluation Metric** : Weighted Pinball Loss function\n"
      ]
    },
    {
      "cell_type": "markdown",
      "metadata": {
        "id": "O-T4XXwe2O79"
      },
      "source": [
        "# **Data Exploration**\n",
        "The first step involves carrying out some exploratory data analysis (EDA) to better understand the dataset. Our primary goal is to apply a Quantile Regression model to predict the 'expense' attribute.\n",
        "\n",
        "Let's delve deeper into this data, highlighting insights that may have an impact on our quantile regression model."
      ]
    },
    {
      "cell_type": "code",
      "execution_count": 1,
      "metadata": {
        "colab": {
          "base_uri": "https://localhost:8080/"
        },
        "id": "_4G1WnGU2G2T",
        "outputId": "92a5e169-5431-4402-c2da-cbb224be045f"
      },
      "outputs": [
        {
          "output_type": "stream",
          "name": "stdout",
          "text": [
            "train size:(741874, 15)\n",
            "test size:(185469, 13)\n"
          ]
        }
      ],
      "source": [
        "import pandas as pd\n",
        "import numpy as np\n",
        "from sklearn.preprocessing import OrdinalEncoder, OneHotEncoder\n",
        "from sklearn.impute import SimpleImputer\n",
        "from sklearn.compose import ColumnTransformer\n",
        "from sklearn.pipeline import Pipeline\n",
        "\n",
        "train= pd.read_csv(\"/content/train.csv\")\n",
        "test= pd.read_csv(\"/content/test.csv\")\n",
        "print(\"train size:\"+ str(train.shape))\n",
        "print(\"test size:\"+ str(test.shape))"
      ]
    },
    {
      "cell_type": "code",
      "execution_count": 2,
      "metadata": {
        "colab": {
          "base_uri": "https://localhost:8080/"
        },
        "id": "YAYMT3ko33XA",
        "outputId": "78dd68ad-04ef-41d2-9548-7eac25cf83bc"
      },
      "outputs": [
        {
          "output_type": "stream",
          "name": "stdout",
          "text": [
            "Index(['id', 'year', 'month', 'age', 'education', 'familysize', 'urban',\n",
            "       'race', 'region', 'state', 'marital', 'occupation', 'income'],\n",
            "      dtype='object')\n",
            "Index(['id', 'wi', 'year', 'month', 'age', 'education', 'familysize', 'urban',\n",
            "       'race', 'region', 'state', 'marital', 'occupation', 'income',\n",
            "       'expense'],\n",
            "      dtype='object')\n"
          ]
        }
      ],
      "source": [
        "print(test.columns)\n",
        "print(train.columns)"
      ]
    },
    {
      "cell_type": "markdown",
      "metadata": {
        "id": "msJ3aNpXhZLt"
      },
      "source": [
        "Check for missing values"
      ]
    },
    {
      "cell_type": "code",
      "execution_count": 3,
      "metadata": {
        "colab": {
          "base_uri": "https://localhost:8080/"
        },
        "id": "MsvgWKn0hCzh",
        "outputId": "f96ea83b-7a4e-460b-efbd-7a2f31926f09"
      },
      "outputs": [
        {
          "output_type": "stream",
          "name": "stdout",
          "text": [
            "Missing values in train data:\n",
            " id                 0\n",
            "wi                 0\n",
            "year               0\n",
            "month              0\n",
            "age                0\n",
            "education          0\n",
            "familysize         0\n",
            "urban              0\n",
            "race               0\n",
            "region          6994\n",
            "state          95742\n",
            "marital            0\n",
            "occupation    233483\n",
            "income             0\n",
            "expense            0\n",
            "dtype: int64\n",
            "Missing values in test data:\n",
            " id                0\n",
            "year              0\n",
            "month             0\n",
            "age               0\n",
            "education         0\n",
            "familysize        0\n",
            "urban             0\n",
            "race              0\n",
            "region         1826\n",
            "state         24016\n",
            "marital           0\n",
            "occupation    58171\n",
            "income            0\n",
            "dtype: int64\n"
          ]
        }
      ],
      "source": [
        "import pandas as pd\n",
        "import seaborn as sns\n",
        "import matplotlib.pyplot as plt\n",
        "\n",
        "print(\"Missing values in train data:\\n\", train.isnull().sum())\n",
        "print(\"Missing values in test data:\\n\", test.isnull().sum())"
      ]
    },
    {
      "cell_type": "code",
      "execution_count": 116,
      "metadata": {
        "colab": {
          "base_uri": "https://localhost:8080/"
        },
        "id": "MGba41kC34mH",
        "outputId": "7a02ea52-0abe-4936-f2c8-7d9486686b4a"
      },
      "outputs": [
        {
          "output_type": "stream",
          "name": "stdout",
          "text": [
            "Summary Statistics of the Train Dataset:\n",
            "                  id             wi           year          month  \\\n",
            "count  741874.00000  741874.000000  741874.000000  741874.000000   \n",
            "mean   370937.50000    1742.251553    2009.074011       6.258592   \n",
            "std    214160.72114     665.767268       4.528342       3.455627   \n",
            "min         1.00000      46.000000    2002.000000       1.000000   \n",
            "25%    185469.25000    1365.000000    2005.000000       3.000000   \n",
            "50%    370937.50000    1643.000000    2009.000000       6.000000   \n",
            "75%    556405.75000    2030.000000    2013.000000       9.000000   \n",
            "max    741874.00000   16224.000000    2017.000000      12.000000   \n",
            "\n",
            "                 age      education     familysize          urban  \\\n",
            "count  741874.000000  741874.000000  741874.000000  741874.000000   \n",
            "mean       49.708089      13.233757       2.516659       1.065155   \n",
            "std        17.362956       1.858918       1.501399       0.246800   \n",
            "min        15.000000       0.000000       1.000000       1.000000   \n",
            "25%        36.000000      12.000000       1.000000       1.000000   \n",
            "50%        49.000000      13.000000       2.000000       1.000000   \n",
            "75%        62.000000      15.000000       3.000000       1.000000   \n",
            "max        87.000000      17.000000      30.000000       2.000000   \n",
            "\n",
            "                race         region          state        marital  \\\n",
            "count  741874.000000  734880.000000  646132.000000  741874.000000   \n",
            "mean        1.337710       2.648920      27.108459       2.297173   \n",
            "std         0.887265       1.034547      16.313357       1.595944   \n",
            "min         1.000000       1.000000       1.000000       1.000000   \n",
            "25%         1.000000       2.000000      12.000000       1.000000   \n",
            "50%         1.000000       3.000000      26.000000       1.000000   \n",
            "75%         1.000000       3.000000      42.000000       3.000000   \n",
            "max         6.000000       4.000000      55.000000       5.000000   \n",
            "\n",
            "          occupation         income        expense  \n",
            "count  508391.000000  741874.000000  741874.000000  \n",
            "mean        6.270365   18467.455234    2869.427717  \n",
            "std         4.295928   18546.157743    4308.140263  \n",
            "min         1.000000       0.000000  -30502.000000  \n",
            "25%         3.000000    6351.000000    1145.000000  \n",
            "50%         5.000000   13279.000000    2012.000000  \n",
            "75%        10.000000   24355.000000    3374.000000  \n",
            "max        18.000000  347573.000000  649569.000000  \n",
            "Summary Statistics of the Test Dataset:\n",
            "                   id           year          month            age  \\\n",
            "count  185469.000000  185469.000000  185469.000000  185469.000000   \n",
            "mean   834609.000000    2009.074433       6.259499      49.626218   \n",
            "std     53540.432876       4.539957       3.452350      17.423155   \n",
            "min    741875.000000    2002.000000       1.000000      15.000000   \n",
            "25%    788242.000000    2005.000000       3.000000      36.000000   \n",
            "50%    834609.000000    2009.000000       6.000000      49.000000   \n",
            "75%    880976.000000    2013.000000       9.000000      62.000000   \n",
            "max    927343.000000    2017.000000      12.000000      87.000000   \n",
            "\n",
            "           education     familysize          urban           race  \\\n",
            "count  185469.000000  185469.000000  185469.000000  185469.000000   \n",
            "mean       13.230578       2.514172       1.064496       1.341459   \n",
            "std         1.858926       1.497566       0.245635       0.891701   \n",
            "min         0.000000       1.000000       1.000000       1.000000   \n",
            "25%        12.000000       1.000000       1.000000       1.000000   \n",
            "50%        13.000000       2.000000       1.000000       1.000000   \n",
            "75%        15.000000       3.000000       1.000000       1.000000   \n",
            "max        17.000000      29.000000       2.000000       6.000000   \n",
            "\n",
            "              region          state        marital     occupation  \\\n",
            "count  183643.000000  161453.000000  185469.000000  127298.000000   \n",
            "mean        2.651040      27.097267       2.300444       6.257977   \n",
            "std         1.036024      16.326774       1.599001       4.289807   \n",
            "min         1.000000       1.000000       1.000000       1.000000   \n",
            "25%         2.000000      12.000000       1.000000       3.000000   \n",
            "50%         3.000000      26.000000       1.000000       5.000000   \n",
            "75%         3.000000      42.000000       3.000000      10.000000   \n",
            "max         4.000000      55.000000       5.000000      18.000000   \n",
            "\n",
            "              income  \n",
            "count  185469.000000  \n",
            "mean    18464.874680  \n",
            "std     18572.233933  \n",
            "min         0.000000  \n",
            "25%      6337.000000  \n",
            "50%     13314.000000  \n",
            "75%     24397.000000  \n",
            "max    298550.000000  \n"
          ]
        }
      ],
      "source": [
        "# Display the summary statistics of the numerical variables\n",
        "print(\"Summary Statistics of the Train Dataset:\\n\", train.describe())\n",
        "print(\"Summary Statistics of the Test Dataset:\\n\", test.describe())"
      ]
    },
    {
      "cell_type": "code",
      "execution_count": 117,
      "metadata": {
        "colab": {
          "base_uri": "https://localhost:8080/",
          "height": 893
        },
        "id": "HJP5EFc9hKol",
        "outputId": "81118235-6bc9-4bc1-c492-9e400dce842a"
      },
      "outputs": [
        {
          "output_type": "display_data",
          "data": {
            "text/plain": [
              "<Figure size 1200x1000 with 2 Axes>"
            ],
            "image/png": "[encoded data removed]"
          },
          "metadata": {}
        }
      ],
      "source": [
        "# Display the correlation matrix, to identify potential correlations between 'expense' and other variables\n",
        "plt.figure(figsize=(12,10))\n",
        "sns.heatmap(train.corr(), annot=True, cmap='coolwarm')\n",
        "plt.title(\"Correlation Matrix of Train Data\")\n",
        "plt.show()"
      ]
    },
    {
      "cell_type": "code",
      "execution_count": 118,
      "metadata": {
        "colab": {
          "base_uri": "https://localhost:8080/",
          "height": 472
        },
        "id": "yLOJU2RghOUs",
        "outputId": "15291663-9e26-4871-8c7b-d9860ec8a42d"
      },
      "outputs": [
        {
          "output_type": "display_data",
          "data": {
            "text/plain": [
              "<Figure size 640x480 with 1 Axes>"
            ],
            "image/png": "[encoded data removed]"
          },
          "metadata": {}
        }
      ],
      "source": [
        "# Explore relationships between 'expense' and other features (for instance, 'income')\n",
        "sns.scatterplot(data=train, x='income', y='expense')\n",
        "plt.title(\"Expense vs Income in Train Data\")\n",
        "plt.show()"
      ]
    },
    {
      "cell_type": "code",
      "execution_count": 119,
      "metadata": {
        "colab": {
          "base_uri": "https://localhost:8080/",
          "height": 472
        },
        "id": "Ki_yAYahhRO6",
        "outputId": "c4922e44-3457-459c-cb9b-98fea897876f"
      },
      "outputs": [
        {
          "output_type": "display_data",
          "data": {
            "text/plain": [
              "<Figure size 640x480 with 1 Axes>"
            ],
            "image/png": "[encoded data removed]"
          },
          "metadata": {}
        }
      ],
      "source": [
        "# let's visualize 'wi' relationship with 'expense'\n",
        "sns.scatterplot(data=train, x='wi', y='expense')\n",
        "plt.title(\"Expense vs Sample Weight in Train Data\")\n",
        "plt.show()"
      ]
    },
    {
      "cell_type": "code",
      "execution_count": 120,
      "metadata": {
        "colab": {
          "base_uri": "https://localhost:8080/",
          "height": 1000
        },
        "id": "A-LJ8Na8Amn0",
        "outputId": "6fecafed-9e99-4bd8-ed1c-74bbbd7ad803"
      },
      "outputs": [
        {
          "output_type": "display_data",
          "data": {
            "text/plain": [
              "<Figure size 1000x600 with 1 Axes>"
            ],
            "image/png": "[encoded data removed]"
          },
          "metadata": {}
        },
        {
          "output_type": "display_data",
          "data": {
            "text/plain": [
              "<Figure size 1000x600 with 1 Axes>"
            ],
            "image/png": "[encoded data removed]"
          },
          "metadata": {}
        },
        {
          "output_type": "display_data",
          "data": {
            "text/plain": [
              "<Figure size 1000x600 with 1 Axes>"
            ],
            "image/png": "[encoded data removed]"
          },
          "metadata": {}
        }
      ],
      "source": [
        "# Histogram for the 'income' variable\n",
        "plt.figure(figsize=(10, 6))\n",
        "sns.histplot(train['income'], bins=30, kde=True)\n",
        "plt.title(\"Income Distribution\")\n",
        "plt.show()\n",
        "\n",
        "# Histogram for the 'expense' variable\n",
        "plt.figure(figsize=(10, 6))\n",
        "sns.histplot(train['expense'], bins=30, kde=True)\n",
        "plt.title(\"Expense Distribution\")\n",
        "plt.show()\n",
        "\n",
        "\n",
        "# Boxplot for the 'expense' variable\n",
        "plt.figure(figsize=(10, 6))\n",
        "sns.boxplot(y='expense', data=train)\n",
        "plt.title(\"Expense Boxplot\")\n",
        "plt.show()"
      ]
    },
    {
      "cell_type": "code",
      "execution_count": 75,
      "metadata": {
        "colab": {
          "base_uri": "https://localhost:8080/",
          "height": 881
        },
        "id": "PXw-ew21A7iI",
        "outputId": "5494efd0-98ed-401a-de63-f0640257ed0f"
      },
      "outputs": [
        {
          "output_type": "display_data",
          "data": {
            "text/plain": [
              "<Figure size 640x480 with 1 Axes>"
            ],
            "image/png": "[encoded data removed]"
          },
          "metadata": {}
        },
        {
          "output_type": "display_data",
          "data": {
            "text/plain": [
              "<Figure size 640x480 with 1 Axes>"
            ],
            "image/png": "[encoded data removed]"
          },
          "metadata": {}
        }
      ],
      "source": [
        "# Boxplot for 'monthly expense' across different 'education' levels\n",
        "sns.boxplot(x='education', y='expense', data=train)\n",
        "plt.show()\n",
        "\n",
        "# Boxplot for 'monthly expense' across different 'education' levels\n",
        "sns.boxplot(x='income', y='expense', data=train)\n",
        "plt.show()\n"
      ]
    },
    {
      "cell_type": "markdown",
      "metadata": {
        "id": "x7_GWV2o4zmC"
      },
      "source": [
        "There is no missing data in the majority of our variables in both the training and testing sets. However, we have detected some missing data in 'region', 'state', and 'occupation' fields in both datasets. Our next steps should involve strategies for handling these missing values.\n",
        "\n",
        "Based on the statistical summary of the train and test datasets:\n",
        "\n",
        "\n",
        "\n",
        "*   The 'year' variable spans from 2002 to 2017, and the datasets seem to be evenly spread across this range.\n",
        "*   The 'age' variable ranges from 15 to 87 years, with the majority of the instances lying between 36 and 62 years of age.\n",
        "*   'Education' appears to range between 0 and 17, assuming these are ordinal categories signifying different levels of education.\n",
        "*   The 'familysize' variable suggests that most families include 1 to 3 individuals.\n",
        "*   'Urban' is a binary variable, with the majority of instances corresponding to category 1, which could indicate urban residency.\n",
        "*   The 'race' variable is largely dominated by category 1, though the exact racial demographic this refers to is not specified in the data provided.\n",
        "*   The variable 'region' ranges from 1 to 4, with most instances falling within regions 2 and 3.\n",
        "*   The 'state' variable encompasses up to 55 unique states, with the majority of instances spread across states 12 to 42.\n",
        "*   The 'marital' status feature ranges from 1 to 5, with most instances belonging to categories 1 and 3.\n",
        "*   The 'occupation' feature has up to 18 unique categories, with most individuals engaging in occupations labeled 3 and 10.\n",
        "*   'Income' exhibits a large variance with values from 0 up to around 350,000 in the training data and around 300,000 in the test data. It has a positively skewed distribution, as suggested by the substantial difference between the mean and the median.\n",
        "*  'Expense' in the training data also shows a high degree of variability, with a minimum value indicating a significant loss (negative expense) and a maximum value of approximately 650,000. This variable is also positively skewed.\n",
        "\n",
        "\n"
      ]
    },
    {
      "cell_type": "markdown",
      "metadata": {
        "id": "YORab5Sv8rqH"
      },
      "source": [
        "**Which variables are most strongly correlated with the target variable?**"
      ]
    },
    {
      "cell_type": "code",
      "execution_count": 5,
      "metadata": {
        "colab": {
          "base_uri": "https://localhost:8080/"
        },
        "id": "BZeS1nF38iC4",
        "outputId": "8d55d1b3-3f04-444d-9060-717789dea15c"
      },
      "outputs": [
        {
          "output_type": "stream",
          "name": "stdout",
          "text": [
            "expense       1.000000\n",
            "income        0.368773\n",
            "education     0.189339\n",
            "familysize    0.134576\n",
            "id            0.051661\n",
            "year          0.051100\n",
            "month         0.017014\n",
            "region        0.007617\n",
            "wi           -0.005056\n",
            "age          -0.008418\n",
            "state        -0.009319\n",
            "race         -0.013151\n",
            "urban        -0.034066\n",
            "occupation   -0.130840\n",
            "marital      -0.162814\n",
            "Name: expense, dtype: float64\n"
          ]
        }
      ],
      "source": [
        "# Display correlations between 'monthly expense' and all other variables\n",
        "correlation = train.corr()['expense'].sort_values(ascending=False)\n",
        "print(correlation)"
      ]
    },
    {
      "cell_type": "markdown",
      "metadata": {
        "id": "G8RaCWxf81lP"
      },
      "source": [
        "**How is the target variable distributed? Is it normally distributed or skewed?**\n",
        "\n",
        "Using Shapiro-Wilk test to provide a more definitive measure of how likely it is that the data came from a normal distribution."
      ]
    },
    {
      "cell_type": "code",
      "execution_count": 6,
      "metadata": {
        "colab": {
          "base_uri": "https://localhost:8080/"
        },
        "id": "0B9iFcUL82BX",
        "outputId": "9963ad83-b748-4971-c522-b6751da5a07a"
      },
      "outputs": [
        {
          "output_type": "stream",
          "name": "stdout",
          "text": [
            "Statistics=0.407561719417572, p=0.0\n",
            "Sample does not look Gaussian (reject H0)\n"
          ]
        },
        {
          "output_type": "stream",
          "name": "stderr",
          "text": [
            "/usr/local/lib/python3.10/dist-packages/scipy/stats/_morestats.py:1816: UserWarning: p-value may not be accurate for N > 5000.\n",
            "  warnings.warn(\"p-value may not be accurate for N > 5000.\")\n"
          ]
        }
      ],
      "source": [
        "from scipy.stats import shapiro\n",
        "stat, p = shapiro(train['expense'])\n",
        "print(f'Statistics={stat}, p={p}')\n",
        "\n",
        "# interpret\n",
        "alpha = 0.05\n",
        "if p > alpha:\n",
        "    print('Sample looks Gaussian (fail to reject H0)')\n",
        "else:\n",
        "    print('Sample does not look Gaussian (reject H0)')\n"
      ]
    },
    {
      "cell_type": "markdown",
      "metadata": {
        "id": "_M-rsbr0BSZ7"
      },
      "source": [
        "Based on the findings from the initial exploration, the next steps include:\n",
        "\n",
        "\n",
        "1.   Handling missing data.\n",
        "2.   Standardizing or normalizing certain variables.\n",
        "3.   Checking for and treating potential outliers.\n",
        "\n"
      ]
    },
    {
      "cell_type": "markdown",
      "metadata": {
        "id": "r7IntmKr59sb"
      },
      "source": [
        "**1. Handling Missing Data**\n",
        "\n",
        "Since 'region', 'state', and 'occupation' have missing values, for simplicty I'll replace the NaNs with the most common value (mode) in these columns. However, I can consider using more sophisticated methods like predictive imputation later.\n"
      ]
    },
    {
      "cell_type": "code",
      "execution_count": 7,
      "metadata": {
        "id": "wNhQr5aJ41Db"
      },
      "outputs": [],
      "source": [
        "# Handling missing data in train dataset\n",
        "for col in ['region', 'state', 'occupation']:\n",
        "    train[col].fillna(train[col].mode()[0], inplace=True)\n",
        "\n",
        "# Handling missing data in test dataset\n",
        "for col in ['region', 'state', 'occupation']:\n",
        "    test[col].fillna(test[col].mode()[0], inplace=True)\n"
      ]
    },
    {
      "cell_type": "markdown",
      "metadata": {
        "id": "3qO-ubv86Dbl"
      },
      "source": [
        "**2. Standardizing Variables**\n",
        "\n",
        "'Income' and 'expense' variables exhibit significant variances. We'll standardize these variables using the StandardScaler from sklearn to make them easier to handle by our model."
      ]
    },
    {
      "cell_type": "code",
      "execution_count": 8,
      "metadata": {
        "id": "TK1o5q7p6FXK"
      },
      "outputs": [],
      "source": [
        "from sklearn.preprocessing import StandardScaler\n",
        "\n",
        "# Create a scaler object\n",
        "scaler = StandardScaler()\n",
        "\n",
        "# Fit and transform the 'income' column in the train and test datasets\n",
        "train['income'] = scaler.fit_transform(train[['income']])\n",
        "test['income'] = scaler.transform(test[['income']])\n",
        "\n",
        "# Fit and transform the 'expense' column in the train dataset\n",
        "train['expense'] = scaler.fit_transform(train[['expense']])\n"
      ]
    },
    {
      "cell_type": "code",
      "execution_count": null,
      "metadata": {
        "colab": {
          "base_uri": "https://localhost:8080/"
        },
        "id": "9PoDtl7j-CpM",
        "outputId": "b12c6d73-e311-4608-9a7e-083878bcb777"
      },
      "outputs": [
        {
          "output_type": "stream",
          "name": "stdout",
          "text": [
            "max:150.1111775979035\n",
            "min:-7.74613828027111\n"
          ]
        }
      ],
      "source": [
        "print(\"max:\" + str(train['expense'].max()))\n",
        "print(\"min:\" + str(train['expense'].min()))"
      ]
    },
    {
      "cell_type": "markdown",
      "metadata": {
        "id": "CDpSLg-FBwGb"
      },
      "source": [
        "**4. Handling Categorical and Ordinal Features**"
      ]
    },
    {
      "cell_type": "markdown",
      "metadata": {
        "id": "D3tbW-0DupEK"
      },
      "source": [
        "Given the assumption that occupation, marital status, state, region, race, and urban are categorical variables, and education is an ordinal variable, we need to handle these differently.\n",
        "\n",
        "For categorical variables, we can use one-hot encoding, and for the ordinal variable, we can keep it as is since it's already in a numerical format representing the order."
      ]
    },
    {
      "cell_type": "code",
      "execution_count": 9,
      "metadata": {
        "colab": {
          "base_uri": "https://localhost:8080/"
        },
        "id": "16ZMw_Lbuply",
        "outputId": "fd10356b-16ca-4ad8-ddf5-32b876b5fefc"
      },
      "outputs": [
        {
          "output_type": "stream",
          "name": "stderr",
          "text": [
            "/usr/local/lib/python3.10/dist-packages/sklearn/preprocessing/_encoders.py:868: FutureWarning: `sparse` was renamed to `sparse_output` in version 1.2 and will be removed in 1.4. `sparse_output` is ignored unless you leave `sparse` to its default value.\n",
            "  warnings.warn(\n"
          ]
        }
      ],
      "source": [
        "# import necessary libraries\n",
        "from sklearn.preprocessing import OneHotEncoder\n",
        "\n",
        "# list of categorical columns to one-hot encode\n",
        "categorical_columns = ['occupation', 'marital', 'state', 'region', 'race', 'urban']\n",
        "\n",
        "# instantiate the one-hot encoder\n",
        "ohe = OneHotEncoder(drop='first', sparse=False)\n",
        "\n",
        "# fit the encoder on the training data\n",
        "ohe.fit(train[categorical_columns])\n",
        "\n",
        "# transform the training data\n",
        "train_encoded = ohe.transform(train[categorical_columns])\n",
        "train_encoded = pd.DataFrame(train_encoded, columns=ohe.get_feature_names_out(categorical_columns))\n",
        "train = pd.concat([train.drop(columns=categorical_columns), train_encoded], axis=1)\n",
        "\n",
        "# transform the test data\n",
        "test_encoded = ohe.transform(test[categorical_columns])\n",
        "test_encoded = pd.DataFrame(test_encoded, columns=ohe.get_feature_names_out(categorical_columns))\n",
        "test = pd.concat([test.drop(columns=categorical_columns), test_encoded], axis=1)\n"
      ]
    },
    {
      "cell_type": "code",
      "execution_count": 11,
      "metadata": {
        "colab": {
          "base_uri": "https://localhost:8080/"
        },
        "id": "98FLdouQuzxA",
        "outputId": "a95460fd-3552-428e-cb82-e74367eca725"
      },
      "outputs": [
        {
          "output_type": "stream",
          "name": "stdout",
          "text": [
            "(185469, 81)\n",
            "(741874, 83)\n"
          ]
        }
      ],
      "source": [
        "print(test.shape)\n",
        "print(train.shape)"
      ]
    },
    {
      "cell_type": "markdown",
      "metadata": {
        "id": "FBSdWtVmYmKY"
      },
      "source": [
        "**Quantiles Regression Problem**\n",
        "\n",
        "**Loss function:**\n",
        "The loss for an individual data point is defined as:\n",
        "$$\n",
        "\\begin{align}\n",
        "\\mathcal{L}(\\xi_i|\\alpha)=\\begin{cases}\n",
        "\\alpha \\xi_i &\\text{if }\\xi_i\\ge 0, \\\\\n",
        "(\\alpha-1) \\xi_i &\\text{if }\\xi_i< 0.\n",
        "\\end{cases}\n",
        "\\end{align}\n",
        "$$\n",
        "where $\\alpha$ is the required quantile and $\\xi_i = y_i - f(\\mathbf{x}_i)$ and, $f(\\mathbf{x}_i)$ is the predicted (quantile) model.\n",
        "\n",
        "The final overall loss is defines as:\n",
        "$$\\mathcal{L}(\\mathbf{y},\\mathbf{f}|\\alpha)=\\frac{1}{N} \\sum_{i=1}^N \\mathcal{L}(y_i-f(\\mathbf{x}_i)|\\alpha)$$"
      ]
    },
    {
      "cell_type": "markdown",
      "metadata": {
        "id": "3HQnbvzu4eId"
      },
      "source": [
        "# **Approach1: Quantile regression model using statsmodels library**\n",
        "\n",
        "We first define the features we're going to use in the model. Then, for each quantile, we train a quantile regression model and add it to our list of models. Once the models are trained, we can use them to make predictions for each quantile on the test data. The predictions are then saved to a DataFrame, which is finally saved to a CSV file."
      ]
    },
    {
      "cell_type": "code",
      "execution_count": 13,
      "metadata": {
        "id": "-Tox7FGz4o62",
        "colab": {
          "base_uri": "https://localhost:8080/"
        },
        "outputId": "e526cb80-7ffd-4c46-fef1-be330241080f"
      },
      "outputs": [
        {
          "output_type": "stream",
          "name": "stdout",
          "text": [
            "CPU times: user 581 ms, sys: 557 ms, total: 1.14 s\n",
            "Wall time: 1.13 s\n"
          ]
        }
      ],
      "source": [
        "%%time\n",
        "from statsmodels.regression.quantile_regression import QuantReg\n",
        "import statsmodels.api as sm\n",
        "import pandas as pd\n",
        "from sklearn.model_selection import train_test_split\n",
        "\n",
        "# Define features and target variable\n",
        "train_x=train.drop(columns=['id','wi','expense'])\n",
        "target = 'expense'\n",
        "\n",
        "X = sm.add_constant(train_x)\n",
        "y = train[target]\n",
        "weights = train['wi']\n",
        "\n",
        "# Quantiles that we're interested in\n",
        "quantiles = [0.005, 0.025, 0.165, 0.25, 0.5, 0.75, 0.835, 0.975, 0.995]"
      ]
    },
    {
      "cell_type": "code",
      "source": [
        "# Train a quantile regression model for each quantile\n",
        "models = []\n",
        "for qt in quantiles:\n",
        "    model = QuantReg(y, X)\n",
        "    res = model.fit(q=qt, weights=weights)\n",
        "    models.append(res)"
      ],
      "metadata": {
        "id": "G7rB2aq5jpoF"
      },
      "execution_count": null,
      "outputs": []
    },
    {
      "cell_type": "markdown",
      "metadata": {
        "id": "WX-2oLcJBLe_"
      },
      "source": [
        "After prediction, i used inverse scalar transform for the predicted values."
      ]
    },
    {
      "cell_type": "code",
      "execution_count": null,
      "metadata": {
        "id": "vzFOcpW26J0o"
      },
      "outputs": [],
      "source": [
        "import numpy as np\n",
        "\n",
        "import statsmodels.api as sm\n",
        "# Preprocess test data in the same way as training data\n",
        "X_test = sm.add_constant(test.drop(columns=['id']))\n",
        "predictions = pd.DataFrame()\n",
        "predictions['id'] = test['id'].copy()\n",
        "\n",
        "for i, model in enumerate(models):\n",
        "    y_pred_standardized = model.predict(X_test)\n",
        "    y_pred_standardized = y_pred_standardized.values.reshape(-1, 1)  # Convert to numpy array and reshape\n",
        "    y_pred = scaler.inverse_transform(y_pred_standardized)\n",
        "    predictions[f'q{i+1}'] = y_pred\n",
        "\n",
        "# Save the predictions to a CSV file\n",
        "predictions.to_csv('test_quantiles_quantile_reg.csv', index=False)\n"
      ]
    },
    {
      "cell_type": "code",
      "execution_count": null,
      "metadata": {
        "colab": {
          "base_uri": "https://localhost:8080/",
          "height": 204
        },
        "id": "dSlcNt_V_h-D",
        "outputId": "8f200e2b-bec9-4eda-d728-0fb16f273ffb"
      },
      "outputs": [
        {
          "data": {
            "text/html": [
              "\n",
              "  <div id=\"df-ec6b23f9-44ff-4fff-9de8-b7da2a57803a\">\n",
              "    <div class=\"colab-df-container\">\n",
              "      <div>\n",
              "<style scoped>\n",
              "    .dataframe tbody tr th:only-of-type {\n",
              "        vertical-align: middle;\n",
              "    }\n",
              "\n",
              "    .dataframe tbody tr th {\n",
              "        vertical-align: top;\n",
              "    }\n",
              "\n",
              "    .dataframe thead th {\n",
              "        text-align: right;\n",
              "    }\n",
              "</style>\n",
              "<table border=\"1\" class=\"dataframe\">\n",
              "  <thead>\n",
              "    <tr style=\"text-align: right;\">\n",
              "      <th></th>\n",
              "      <th>id</th>\n",
              "      <th>q1</th>\n",
              "      <th>q2</th>\n",
              "      <th>q3</th>\n",
              "      <th>q4</th>\n",
              "      <th>q5</th>\n",
              "      <th>q6</th>\n",
              "      <th>q7</th>\n",
              "      <th>q8</th>\n",
              "      <th>q9</th>\n",
              "    </tr>\n",
              "  </thead>\n",
              "  <tbody>\n",
              "    <tr>\n",
              "      <th>0</th>\n",
              "      <td>741875</td>\n",
              "      <td>0.001040</td>\n",
              "      <td>-44.801135</td>\n",
              "      <td>204.546156</td>\n",
              "      <td>320.659986</td>\n",
              "      <td>551.860855</td>\n",
              "      <td>876.050836</td>\n",
              "      <td>1050.722357</td>\n",
              "      <td>2037.057549</td>\n",
              "      <td>4949.592413</td>\n",
              "    </tr>\n",
              "    <tr>\n",
              "      <th>1</th>\n",
              "      <td>741876</td>\n",
              "      <td>0.000499</td>\n",
              "      <td>-30.948986</td>\n",
              "      <td>1197.878390</td>\n",
              "      <td>1487.193651</td>\n",
              "      <td>2159.459998</td>\n",
              "      <td>3115.784745</td>\n",
              "      <td>3770.626267</td>\n",
              "      <td>8747.283096</td>\n",
              "      <td>17950.594454</td>\n",
              "    </tr>\n",
              "    <tr>\n",
              "      <th>2</th>\n",
              "      <td>741877</td>\n",
              "      <td>0.000563</td>\n",
              "      <td>-87.627266</td>\n",
              "      <td>238.359992</td>\n",
              "      <td>380.909139</td>\n",
              "      <td>642.105913</td>\n",
              "      <td>961.805642</td>\n",
              "      <td>1218.072112</td>\n",
              "      <td>3734.865995</td>\n",
              "      <td>10609.090932</td>\n",
              "    </tr>\n",
              "    <tr>\n",
              "      <th>3</th>\n",
              "      <td>741878</td>\n",
              "      <td>0.000719</td>\n",
              "      <td>18.963092</td>\n",
              "      <td>659.914881</td>\n",
              "      <td>856.295146</td>\n",
              "      <td>1399.882196</td>\n",
              "      <td>2222.233920</td>\n",
              "      <td>2749.677278</td>\n",
              "      <td>7071.388851</td>\n",
              "      <td>16374.911035</td>\n",
              "    </tr>\n",
              "    <tr>\n",
              "      <th>4</th>\n",
              "      <td>741879</td>\n",
              "      <td>0.000829</td>\n",
              "      <td>-60.284304</td>\n",
              "      <td>522.078274</td>\n",
              "      <td>695.435039</td>\n",
              "      <td>1051.885251</td>\n",
              "      <td>1525.240164</td>\n",
              "      <td>1802.228385</td>\n",
              "      <td>3966.679109</td>\n",
              "      <td>7375.876459</td>\n",
              "    </tr>\n",
              "  </tbody>\n",
              "</table>\n",
              "</div>\n",
              "      <button class=\"colab-df-convert\" onclick=\"convertToInteractive('df-ec6b23f9-44ff-4fff-9de8-b7da2a57803a')\"\n",
              "              title=\"Convert this dataframe to an interactive table.\"\n",
              "              style=\"display:none;\">\n",
              "        \n",
              "  <svg xmlns=\"http://www.w3.org/2000/svg\" height=\"24px\"viewBox=\"0 0 24 24\"\n",
              "       width=\"24px\">\n",
              "    <path d=\"M0 0h24v24H0V0z\" fill=\"none\"/>\n",
              "    <path d=\"M18.56 5.44l.94 2.06.94-2.06 2.06-.94-2.06-.94-.94-2.06-.94 2.06-2.06.94zm-11 1L8.5 8.5l.94-2.06 2.06-.94-2.06-.94L8.5 2.5l-.94 2.06-2.06.94zm10 10l.94 2.06.94-2.06 2.06-.94-2.06-.94-.94-2.06-.94 2.06-2.06.94z\"/><path d=\"M17.41 7.96l-1.37-1.37c-.4-.4-.92-.59-1.43-.59-.52 0-1.04.2-1.43.59L10.3 9.45l-7.72 7.72c-.78.78-.78 2.05 0 2.83L4 21.41c.39.39.9.59 1.41.59.51 0 1.02-.2 1.41-.59l7.78-7.78 2.81-2.81c.8-.78.8-2.07 0-2.86zM5.41 20L4 18.59l7.72-7.72 1.47 1.35L5.41 20z\"/>\n",
              "  </svg>\n",
              "      </button>\n",
              "      \n",
              "  <style>\n",
              "    .colab-df-container {\n",
              "      display:flex;\n",
              "      flex-wrap:wrap;\n",
              "      gap: 12px;\n",
              "    }\n",
              "\n",
              "    .colab-df-convert {\n",
              "      background-color: #E8F0FE;\n",
              "      border: none;\n",
              "      border-radius: 50%;\n",
              "      cursor: pointer;\n",
              "      display: none;\n",
              "      fill: #1967D2;\n",
              "      height: 32px;\n",
              "      padding: 0 0 0 0;\n",
              "      width: 32px;\n",
              "    }\n",
              "\n",
              "    .colab-df-convert:hover {\n",
              "      background-color: #E2EBFA;\n",
              "      box-shadow: 0px 1px 2px rgba(60, 64, 67, 0.3), 0px 1px 3px 1px rgba(60, 64, 67, 0.15);\n",
              "      fill: #174EA6;\n",
              "    }\n",
              "\n",
              "    [theme=dark] .colab-df-convert {\n",
              "      background-color: #3B4455;\n",
              "      fill: #D2E3FC;\n",
              "    }\n",
              "\n",
              "    [theme=dark] .colab-df-convert:hover {\n",
              "      background-color: #434B5C;\n",
              "      box-shadow: 0px 1px 3px 1px rgba(0, 0, 0, 0.15);\n",
              "      filter: drop-shadow(0px 1px 2px rgba(0, 0, 0, 0.3));\n",
              "      fill: #FFFFFF;\n",
              "    }\n",
              "  </style>\n",
              "\n",
              "      <script>\n",
              "        const buttonEl =\n",
              "          document.querySelector('#df-ec6b23f9-44ff-4fff-9de8-b7da2a57803a button.colab-df-convert');\n",
              "        buttonEl.style.display =\n",
              "          google.colab.kernel.accessAllowed ? 'block' : 'none';\n",
              "\n",
              "        async function convertToInteractive(key) {\n",
              "          const element = document.querySelector('#df-ec6b23f9-44ff-4fff-9de8-b7da2a57803a');\n",
              "          const dataTable =\n",
              "            await google.colab.kernel.invokeFunction('convertToInteractive',\n",
              "                                                     [key], {});\n",
              "          if (!dataTable) return;\n",
              "\n",
              "          const docLinkHtml = 'Like what you see? Visit the ' +\n",
              "            '<a target=\"_blank\" href=https://colab.research.google.com/notebooks/data_table.ipynb>data table notebook</a>'\n",
              "            + ' to learn more about interactive tables.';\n",
              "          element.innerHTML = '';\n",
              "          dataTable['output_type'] = 'display_data';\n",
              "          await google.colab.output.renderOutput(dataTable, element);\n",
              "          const docLink = document.createElement('div');\n",
              "          docLink.innerHTML = docLinkHtml;\n",
              "          element.appendChild(docLink);\n",
              "        }\n",
              "      </script>\n",
              "    </div>\n",
              "  </div>\n",
              "  "
            ],
            "text/plain": [
              "       id        q1         q2           q3           q4           q5  \\\n",
              "0  741875  0.001040 -44.801135   204.546156   320.659986   551.860855   \n",
              "1  741876  0.000499 -30.948986  1197.878390  1487.193651  2159.459998   \n",
              "2  741877  0.000563 -87.627266   238.359992   380.909139   642.105913   \n",
              "3  741878  0.000719  18.963092   659.914881   856.295146  1399.882196   \n",
              "4  741879  0.000829 -60.284304   522.078274   695.435039  1051.885251   \n",
              "\n",
              "            q6           q7           q8            q9  \n",
              "0   876.050836  1050.722357  2037.057549   4949.592413  \n",
              "1  3115.784745  3770.626267  8747.283096  17950.594454  \n",
              "2   961.805642  1218.072112  3734.865995  10609.090932  \n",
              "3  2222.233920  2749.677278  7071.388851  16374.911035  \n",
              "4  1525.240164  1802.228385  3966.679109   7375.876459  "
            ]
          },
          "execution_count": 54,
          "metadata": {},
          "output_type": "execute_result"
        }
      ],
      "source": [
        "predictions.head()"
      ]
    },
    {
      "cell_type": "markdown",
      "metadata": {
        "id": "dZDUfYzIpNCm"
      },
      "source": [
        "For the subsequent experiment, I plan to partition the data into training and validation sets and then re-run the experiment."
      ]
    },
    {
      "cell_type": "code",
      "execution_count": null,
      "metadata": {
        "colab": {
          "base_uri": "https://localhost:8080/"
        },
        "id": "JnziM48_7B8T",
        "outputId": "4d61f0e6-cec7-4cc9-cc99-ad04b9e27f6c"
      },
      "outputs": [
        {
          "name": "stdout",
          "output_type": "stream",
          "text": [
            "Quantile: 0.005, Train Weighted Pinball Loss: 0.00, Validation Weighted Pinball Loss: 0.00\n",
            "Quantile: 0.025, Train Weighted Pinball Loss: 0.02, Validation Weighted Pinball Loss: 0.02\n",
            "Quantile: 0.165, Train Weighted Pinball Loss: 0.08, Validation Weighted Pinball Loss: 0.08\n",
            "Quantile: 0.25, Train Weighted Pinball Loss: 0.11, Validation Weighted Pinball Loss: 0.11\n",
            "Quantile: 0.5, Train Weighted Pinball Loss: 0.16, Validation Weighted Pinball Loss: 0.16\n",
            "Quantile: 0.75, Train Weighted Pinball Loss: 0.17, Validation Weighted Pinball Loss: 0.17\n",
            "Quantile: 0.835, Train Weighted Pinball Loss: 0.16, Validation Weighted Pinball Loss: 0.16\n",
            "Quantile: 0.975, Train Weighted Pinball Loss: 0.08, Validation Weighted Pinball Loss: 0.08\n",
            "Quantile: 0.995, Train Weighted Pinball Loss: 0.03, Validation Weighted Pinball Loss: 0.03\n",
            "CPU times: user 4h 13min 7s, sys: 5h 24min 3s, total: 9h 37min 10s\n",
            "Wall time: 16min 30s\n"
          ]
        }
      ],
      "source": [
        "%%time\n",
        "from statsmodels.regression.quantile_regression import QuantReg\n",
        "import statsmodels.api as sm\n",
        "import pandas as pd\n",
        "from sklearn.model_selection import train_test_split\n",
        "\n",
        "# Define features and target variable\n",
        "train_x = train.drop(columns=['id', 'wi', 'expense'])\n",
        "target = 'expense'\n",
        "\n",
        "X = sm.add_constant(train_x)\n",
        "y = train[target]\n",
        "weights = train['wi']\n",
        "\n",
        "# Split the data into training and validation sets\n",
        "X_train, X_val, y_train, y_val, weights_train, weights_val = train_test_split(X, y, weights, test_size=0.2, random_state=42)\n",
        "\n",
        "# Quantiles that we're interested in\n",
        "quantiles = [0.005, 0.025, 0.165, 0.25, 0.5, 0.75, 0.835, 0.975, 0.995]\n",
        "\n",
        "# Define the weighted Pinball Loss function\n",
        "def weighted_pinball_loss(y_true, y_pred, quantile, sample_weight=None):\n",
        "    diff = y_true - y_pred\n",
        "    weighted_diff = np.where(diff >= 0, quantile * diff, (quantile - 1) * diff)\n",
        "    if sample_weight is not None:\n",
        "        return np.average(weighted_diff, weights=sample_weight)\n",
        "    else:\n",
        "        return np.mean(weighted_diff)\n",
        "\n",
        "# Train a quantile regression model for each quantile\n",
        "models = []\n",
        "train_losses = []\n",
        "val_losses = []\n",
        "for qt in quantiles:\n",
        "    model = QuantReg(y_train, X_train)\n",
        "    res = model.fit(q=qt, weights=weights_train)\n",
        "    models.append(res)\n",
        "\n",
        "    # Predict on training set\n",
        "    train_preds = res.predict(X_train)\n",
        "    train_loss = weighted_pinball_loss(y_train, train_preds, quantile=qt, sample_weight=weights_train)\n",
        "    train_losses.append(train_loss)\n",
        "\n",
        "    # Predict on validation set\n",
        "    val_preds = res.predict(X_val)\n",
        "    val_loss = weighted_pinball_loss(y_val, val_preds, quantile=qt, sample_weight=weights_val)\n",
        "    val_losses.append(val_loss)\n",
        "\n",
        "    print(f\"Quantile: {qt}, Train Weighted Pinball Loss: {train_loss:.2f}, Validation Weighted Pinball Loss: {val_loss:.2f}\")\n",
        "# Now, 'models' contains the trained quantile regression models.\n",
        "# 'train_losses' contains the weighted Pinball Loss for each quantile on the training set.\n",
        "# 'val_losses' contains the weighted Pinball Loss for each quantile on the validation set.\n"
      ]
    },
    {
      "cell_type": "code",
      "execution_count": null,
      "metadata": {
        "id": "dKAagWkrErxt"
      },
      "outputs": [],
      "source": [
        "import numpy as np\n",
        "\n",
        "# Preprocess test data in the same way as training data\n",
        "X_test = sm.add_constant(test.drop(columns=['id']))\n",
        "predictions = pd.DataFrame()\n",
        "predictions['id'] = test['id'].copy()\n",
        "\n",
        "for i, model in enumerate(models):\n",
        "    y_pred_standardized = model.predict(X_test)\n",
        "    y_pred_standardized = y_pred_standardized.values.reshape(-1, 1)  # Convert to numpy array and reshape\n",
        "    y_pred = scaler.inverse_transform(y_pred_standardized)\n",
        "    predictions[f'q{i+1}'] = y_pred\n",
        "\n",
        "# Save the predictions to a CSV file\n",
        "predictions.to_csv('test_quantiles_quantile_reg_with_validation.csv', index=False)"
      ]
    },
    {
      "cell_type": "code",
      "execution_count": null,
      "metadata": {
        "colab": {
          "base_uri": "https://localhost:8080/",
          "height": 204
        },
        "id": "vht_pomvEynf",
        "outputId": "670e8d2e-2902-4c83-f0b7-376307a1685b"
      },
      "outputs": [
        {
          "data": {
            "text/html": [
              "\n",
              "  <div id=\"df-b3d2fd19-37d9-4826-b2a4-df257cefd67d\">\n",
              "    <div class=\"colab-df-container\">\n",
              "      <div>\n",
              "<style scoped>\n",
              "    .dataframe tbody tr th:only-of-type {\n",
              "        vertical-align: middle;\n",
              "    }\n",
              "\n",
              "    .dataframe tbody tr th {\n",
              "        vertical-align: top;\n",
              "    }\n",
              "\n",
              "    .dataframe thead th {\n",
              "        text-align: right;\n",
              "    }\n",
              "</style>\n",
              "<table border=\"1\" class=\"dataframe\">\n",
              "  <thead>\n",
              "    <tr style=\"text-align: right;\">\n",
              "      <th></th>\n",
              "      <th>id</th>\n",
              "      <th>q1</th>\n",
              "      <th>q2</th>\n",
              "      <th>q3</th>\n",
              "      <th>q4</th>\n",
              "      <th>q5</th>\n",
              "      <th>q6</th>\n",
              "      <th>q7</th>\n",
              "      <th>q8</th>\n",
              "      <th>q9</th>\n",
              "    </tr>\n",
              "  </thead>\n",
              "  <tbody>\n",
              "    <tr>\n",
              "      <th>0</th>\n",
              "      <td>741875</td>\n",
              "      <td>0.001100</td>\n",
              "      <td>-43.632620</td>\n",
              "      <td>203.813957</td>\n",
              "      <td>321.713383</td>\n",
              "      <td>552.443212</td>\n",
              "      <td>874.795699</td>\n",
              "      <td>1054.024277</td>\n",
              "      <td>2084.033044</td>\n",
              "      <td>5063.755808</td>\n",
              "    </tr>\n",
              "    <tr>\n",
              "      <th>1</th>\n",
              "      <td>741876</td>\n",
              "      <td>0.000567</td>\n",
              "      <td>-28.577585</td>\n",
              "      <td>1194.310739</td>\n",
              "      <td>1481.414983</td>\n",
              "      <td>2142.765835</td>\n",
              "      <td>3086.105891</td>\n",
              "      <td>3733.258953</td>\n",
              "      <td>8970.667276</td>\n",
              "      <td>18179.694118</td>\n",
              "    </tr>\n",
              "    <tr>\n",
              "      <th>2</th>\n",
              "      <td>741877</td>\n",
              "      <td>0.000586</td>\n",
              "      <td>-84.087576</td>\n",
              "      <td>240.417588</td>\n",
              "      <td>378.064125</td>\n",
              "      <td>637.561711</td>\n",
              "      <td>943.011758</td>\n",
              "      <td>1180.956195</td>\n",
              "      <td>3520.906043</td>\n",
              "      <td>10292.701194</td>\n",
              "    </tr>\n",
              "    <tr>\n",
              "      <th>3</th>\n",
              "      <td>741878</td>\n",
              "      <td>0.000626</td>\n",
              "      <td>15.815499</td>\n",
              "      <td>653.949367</td>\n",
              "      <td>849.798388</td>\n",
              "      <td>1393.015418</td>\n",
              "      <td>2228.000030</td>\n",
              "      <td>2727.703159</td>\n",
              "      <td>7060.043263</td>\n",
              "      <td>16288.639431</td>\n",
              "    </tr>\n",
              "    <tr>\n",
              "      <th>4</th>\n",
              "      <td>741879</td>\n",
              "      <td>0.000831</td>\n",
              "      <td>-61.929307</td>\n",
              "      <td>518.209546</td>\n",
              "      <td>697.513784</td>\n",
              "      <td>1063.840576</td>\n",
              "      <td>1524.402762</td>\n",
              "      <td>1817.651082</td>\n",
              "      <td>3995.056776</td>\n",
              "      <td>7281.497548</td>\n",
              "    </tr>\n",
              "  </tbody>\n",
              "</table>\n",
              "</div>\n",
              "      <button class=\"colab-df-convert\" onclick=\"convertToInteractive('df-b3d2fd19-37d9-4826-b2a4-df257cefd67d')\"\n",
              "              title=\"Convert this dataframe to an interactive table.\"\n",
              "              style=\"display:none;\">\n",
              "        \n",
              "  <svg xmlns=\"http://www.w3.org/2000/svg\" height=\"24px\"viewBox=\"0 0 24 24\"\n",
              "       width=\"24px\">\n",
              "    <path d=\"M0 0h24v24H0V0z\" fill=\"none\"/>\n",
              "    <path d=\"M18.56 5.44l.94 2.06.94-2.06 2.06-.94-2.06-.94-.94-2.06-.94 2.06-2.06.94zm-11 1L8.5 8.5l.94-2.06 2.06-.94-2.06-.94L8.5 2.5l-.94 2.06-2.06.94zm10 10l.94 2.06.94-2.06 2.06-.94-2.06-.94-.94-2.06-.94 2.06-2.06.94z\"/><path d=\"M17.41 7.96l-1.37-1.37c-.4-.4-.92-.59-1.43-.59-.52 0-1.04.2-1.43.59L10.3 9.45l-7.72 7.72c-.78.78-.78 2.05 0 2.83L4 21.41c.39.39.9.59 1.41.59.51 0 1.02-.2 1.41-.59l7.78-7.78 2.81-2.81c.8-.78.8-2.07 0-2.86zM5.41 20L4 18.59l7.72-7.72 1.47 1.35L5.41 20z\"/>\n",
              "  </svg>\n",
              "      </button>\n",
              "      \n",
              "  <style>\n",
              "    .colab-df-container {\n",
              "      display:flex;\n",
              "      flex-wrap:wrap;\n",
              "      gap: 12px;\n",
              "    }\n",
              "\n",
              "    .colab-df-convert {\n",
              "      background-color: #E8F0FE;\n",
              "      border: none;\n",
              "      border-radius: 50%;\n",
              "      cursor: pointer;\n",
              "      display: none;\n",
              "      fill: #1967D2;\n",
              "      height: 32px;\n",
              "      padding: 0 0 0 0;\n",
              "      width: 32px;\n",
              "    }\n",
              "\n",
              "    .colab-df-convert:hover {\n",
              "      background-color: #E2EBFA;\n",
              "      box-shadow: 0px 1px 2px rgba(60, 64, 67, 0.3), 0px 1px 3px 1px rgba(60, 64, 67, 0.15);\n",
              "      fill: #174EA6;\n",
              "    }\n",
              "\n",
              "    [theme=dark] .colab-df-convert {\n",
              "      background-color: #3B4455;\n",
              "      fill: #D2E3FC;\n",
              "    }\n",
              "\n",
              "    [theme=dark] .colab-df-convert:hover {\n",
              "      background-color: #434B5C;\n",
              "      box-shadow: 0px 1px 3px 1px rgba(0, 0, 0, 0.15);\n",
              "      filter: drop-shadow(0px 1px 2px rgba(0, 0, 0, 0.3));\n",
              "      fill: #FFFFFF;\n",
              "    }\n",
              "  </style>\n",
              "\n",
              "      <script>\n",
              "        const buttonEl =\n",
              "          document.querySelector('#df-b3d2fd19-37d9-4826-b2a4-df257cefd67d button.colab-df-convert');\n",
              "        buttonEl.style.display =\n",
              "          google.colab.kernel.accessAllowed ? 'block' : 'none';\n",
              "\n",
              "        async function convertToInteractive(key) {\n",
              "          const element = document.querySelector('#df-b3d2fd19-37d9-4826-b2a4-df257cefd67d');\n",
              "          const dataTable =\n",
              "            await google.colab.kernel.invokeFunction('convertToInteractive',\n",
              "                                                     [key], {});\n",
              "          if (!dataTable) return;\n",
              "\n",
              "          const docLinkHtml = 'Like what you see? Visit the ' +\n",
              "            '<a target=\"_blank\" href=https://colab.research.google.com/notebooks/data_table.ipynb>data table notebook</a>'\n",
              "            + ' to learn more about interactive tables.';\n",
              "          element.innerHTML = '';\n",
              "          dataTable['output_type'] = 'display_data';\n",
              "          await google.colab.output.renderOutput(dataTable, element);\n",
              "          const docLink = document.createElement('div');\n",
              "          docLink.innerHTML = docLinkHtml;\n",
              "          element.appendChild(docLink);\n",
              "        }\n",
              "      </script>\n",
              "    </div>\n",
              "  </div>\n",
              "  "
            ],
            "text/plain": [
              "       id        q1         q2           q3           q4           q5  \\\n",
              "0  741875  0.001100 -43.632620   203.813957   321.713383   552.443212   \n",
              "1  741876  0.000567 -28.577585  1194.310739  1481.414983  2142.765835   \n",
              "2  741877  0.000586 -84.087576   240.417588   378.064125   637.561711   \n",
              "3  741878  0.000626  15.815499   653.949367   849.798388  1393.015418   \n",
              "4  741879  0.000831 -61.929307   518.209546   697.513784  1063.840576   \n",
              "\n",
              "            q6           q7           q8            q9  \n",
              "0   874.795699  1054.024277  2084.033044   5063.755808  \n",
              "1  3086.105891  3733.258953  8970.667276  18179.694118  \n",
              "2   943.011758  1180.956195  3520.906043  10292.701194  \n",
              "3  2228.000030  2727.703159  7060.043263  16288.639431  \n",
              "4  1524.402762  1817.651082  3995.056776   7281.497548  "
            ]
          },
          "execution_count": 58,
          "metadata": {},
          "output_type": "execute_result"
        }
      ],
      "source": [
        "predictions.head()"
      ]
    },
    {
      "cell_type": "markdown",
      "metadata": {
        "id": "MoRmfcjjBblJ"
      },
      "source": [
        "In general, quantile regression should not produce quantiles where a lower quantile value (e.g., q1) is greater than a higher quantile value (e.g., q2). There could be few factors that can lead to this unexpected result. Here are a few possible reasons:\n",
        "\n",
        "**Model convergence:** The quantile regression models may not have converged properly, leading to inaccurate parameter estimates.\n",
        "\n",
        "**Outliers or influential observations**: Extreme outliers or influential observations in the data can have a strong impact on the estimated quantiles.\n",
        "\n",
        "**Data quality issues:** Inconsistent or erroneous data can lead to unexpected results.\n",
        "\n",
        "**Sample size:**The accuracy of quantile estimates can be affected.\n",
        "\n",
        "Given that the data is not small, and the dataset is robust, there could be problem with model convergence. Lets try other models.\n",
        "\n",
        "\n",
        "\n",
        "\n",
        "\n"
      ]
    },
    {
      "cell_type": "markdown",
      "metadata": {
        "id": "7FBOKPotjS9q"
      },
      "source": [
        "\n",
        "# **Approach2:** **Gradient Boosting Regressor**\n",
        "\n",
        "The GradientBoostingRegressor class in scikit-learn offers several parameters that can be tuned to adjust the behavior of the gradient boosting regression model. Here are some important parameters:\n",
        "\n",
        "**loss:** The loss function to be optimized.\n",
        "**alpha:** The quantile to be estimated.\n",
        "**n_estimators:** The number of boosting stages (trees) to be used.\n",
        "**learning_rate:** The learning rate shrinks the contribution of each tree. .\n",
        "**max_depth:** The maximum depth of the individual regression estimators (trees).\n",
        "**subsample:** The fraction of samples to be used for fitting each individual tree."
      ]
    },
    {
      "cell_type": "code",
      "execution_count": 69,
      "metadata": {
        "id": "XwZEP79E8wSK"
      },
      "outputs": [],
      "source": [
        "from sklearn.ensemble import GradientBoostingRegressor\n",
        "\n",
        "# Create a GradientBoostingRegressor for each quantile and store in the models list\n",
        "models = []\n",
        "for qt in quantiles:\n",
        "    model = GradientBoostingRegressor(loss='quantile', alpha=qt)\n",
        "    model.fit(X, y, sample_weight=weights)\n",
        "    models.append(model)\n",
        "\n",
        "# Predict values for each model and store in the dataframe\n",
        "train_preds = pd.DataFrame(index=X.index)\n",
        "for i, model in enumerate(models):\n",
        "    train_preds[f'q{i+1}'] = model.predict(X)"
      ]
    },
    {
      "cell_type": "code",
      "execution_count": 70,
      "metadata": {
        "colab": {
          "base_uri": "https://localhost:8080/"
        },
        "id": "GtbM8_XBjd19",
        "outputId": "970db98c-0223-4e2d-e2e2-c1ccc77e6087"
      },
      "outputs": [
        {
          "output_type": "stream",
          "name": "stdout",
          "text": [
            "Quantile: 0.005, Weighted Pinball Loss: 8.35294726532132\n",
            "Quantile: 0.025, Weighted Pinball Loss: 29.093712959565227\n",
            "Quantile: 0.165, Weighted Pinball Loss: 139.7940450289495\n",
            "Quantile: 0.25, Weighted Pinball Loss: 187.8927276215138\n",
            "Quantile: 0.5, Weighted Pinball Loss: 281.28067030685224\n",
            "Quantile: 0.75, Weighted Pinball Loss: 295.72014015894405\n",
            "Quantile: 0.835, Weighted Pinball Loss: 271.75792976260954\n",
            "Quantile: 0.975, Weighted Pinball Loss: 133.62476639682882\n",
            "Quantile: 0.995, Weighted Pinball Loss: 58.19623922044845\n",
            "Total Weighted Pinball Loss: 156.19035319122588\n"
          ]
        }
      ],
      "source": [
        "def weighted_pinball_loss(y_true, y_pred, weights, quantile):\n",
        "    \"\"\"\n",
        "    Calculate the Weighted Pinball Loss for a given quantile.\n",
        "\n",
        "    Arguments:\n",
        "    y_true -- the true values\n",
        "    y_pred -- the predicted values\n",
        "    weights -- the weights for the data points\n",
        "    quantile -- the quantile at which predictions were made\n",
        "    \"\"\"\n",
        "    delta = y_true - y_pred\n",
        "    loss = np.maximum(quantile * delta, (quantile - 1) * delta)\n",
        "    return np.mean(loss * weights)\n",
        "\n",
        "# Calculate and print Weighted Pinball Loss for each quantile\n",
        "losses = []\n",
        "for i, qt in enumerate(quantiles):\n",
        "    loss = weighted_pinball_loss(y, train_preds[f'q{i+1}'], weights, qt)\n",
        "    losses.append(loss)\n",
        "    print(f'Quantile: {qt}, Weighted Pinball Loss: {loss}')\n",
        "\n",
        "# Calculate and print total Weighted Pinball Loss\n",
        "total_loss = np.mean(losses)\n",
        "print(f'Total Weighted Pinball Loss: {total_loss}')"
      ]
    },
    {
      "cell_type": "code",
      "execution_count": 71,
      "metadata": {
        "id": "tZdwTU8sjyhL"
      },
      "outputs": [],
      "source": [
        "import pandas as pd\n",
        "import numpy as np\n",
        "# Create a dataframe to store the predictions for each model\n",
        "predictions = pd.DataFrame()\n",
        "predictions['id'] = test['id']\n",
        "\n",
        "# Predict values for each model and store in the dataframe\n",
        "for i, model in enumerate(models):\n",
        "    y_pred = model.predict(X_test)\n",
        "    y_pred_actual = scaler.inverse_transform(y_pred.reshape(-1, 1))\n",
        "    predictions[f'q{i+1}'] = y_pred_actual.flatten()\n",
        "\n",
        "# Save the predictions to a CSV file\n",
        "predictions.to_csv('test_quantiles_gardient_boosting.csv', index=False)"
      ]
    },
    {
      "cell_type": "code",
      "source": [
        "from google.colab import files\n",
        "files.download(\"test_quantiles_gardient_boosting.csv\")"
      ],
      "metadata": {
        "colab": {
          "base_uri": "https://localhost:8080/",
          "height": 17
        },
        "id": "imULu26sYAmE",
        "outputId": "1bad810d-8869-40b9-ee72-975c42a764d7"
      },
      "execution_count": 72,
      "outputs": [
        {
          "output_type": "display_data",
          "data": {
            "text/plain": [
              "<IPython.core.display.Javascript object>"
            ],
            "application/javascript": [
              "\n",
              "    async function download(id, filename, size) {\n",
              "      if (!google.colab.kernel.accessAllowed) {\n",
              "        return;\n",
              "      }\n",
              "      const div = document.createElement('div');\n",
              "      const label = document.createElement('label');\n",
              "      label.textContent = `Downloading \"${filename}\": `;\n",
              "      div.appendChild(label);\n",
              "      const progress = document.createElement('progress');\n",
              "      progress.max = size;\n",
              "      div.appendChild(progress);\n",
              "      document.body.appendChild(div);\n",
              "\n",
              "      const buffers = [];\n",
              "      let downloaded = 0;\n",
              "\n",
              "      const channel = await google.colab.kernel.comms.open(id);\n",
              "      // Send a message to notify the kernel that we're ready.\n",
              "      channel.send({})\n",
              "\n",
              "      for await (const message of channel.messages) {\n",
              "        // Send a message to notify the kernel that we're ready.\n",
              "        channel.send({})\n",
              "        if (message.buffers) {\n",
              "          for (const buffer of message.buffers) {\n",
              "            buffers.push(buffer);\n",
              "            downloaded += buffer.byteLength;\n",
              "            progress.value = downloaded;\n",
              "          }\n",
              "        }\n",
              "      }\n",
              "      const blob = new Blob(buffers, {type: 'application/binary'});\n",
              "      const a = document.createElement('a');\n",
              "      a.href = window.URL.createObjectURL(blob);\n",
              "      a.download = filename;\n",
              "      div.appendChild(a);\n",
              "      a.click();\n",
              "      div.remove();\n",
              "    }\n",
              "  "
            ]
          },
          "metadata": {}
        },
        {
          "output_type": "display_data",
          "data": {
            "text/plain": [
              "<IPython.core.display.Javascript object>"
            ],
            "application/javascript": [
              "download(\"download_6a47e8f2-413e-4841-925e-1e2408b7a2f4\", \"test_quantiles_gardient_boosting.csv\", 30215831)"
            ]
          },
          "metadata": {}
        }
      ]
    },
    {
      "cell_type": "code",
      "execution_count": 59,
      "metadata": {
        "id": "UayOIBHhF6oN"
      },
      "outputs": [],
      "source": [
        "from sklearn.ensemble import GradientBoostingRegressor\n",
        "from sklearn.model_selection import  GridSearchCV\n",
        "\n",
        "# Create a GradientBoostingRegressor for each quantile and store in the models list\n",
        "models = []\n",
        "for qt in quantiles:\n",
        "    params = {'n_estimators': [100], 'max_depth': [4], 'min_samples_split': [5], 'learning_rate': [0.1], 'loss': ['quantile'], 'alpha': [qt]}\n",
        "    regressor = GridSearchCV(GradientBoostingRegressor(random_state=42), param_grid=params, cv=3)\n",
        "    regressor.fit(X, y, sample_weight=weights)\n",
        "    models.append(regressor)\n",
        "\n",
        "# Predict values for each model and store in the dataframe\n",
        "train_preds = pd.DataFrame(index=X.index)\n",
        "for i, model in enumerate(models):\n",
        "    train_preds[f'q{i+1}'] = model.predict(X)"
      ]
    },
    {
      "cell_type": "code",
      "execution_count": 60,
      "metadata": {
        "colab": {
          "base_uri": "https://localhost:8080/"
        },
        "id": "zoLXpXk3GlD4",
        "outputId": "777e1bc9-8659-4b6e-eb3c-4c4e2ca12390"
      },
      "outputs": [
        {
          "output_type": "stream",
          "name": "stdout",
          "text": [
            "Quantile: 0.005, Weighted Pinball Loss: 8.198668341752265\n",
            "Quantile: 0.025, Weighted Pinball Loss: 28.140886795385914\n",
            "Quantile: 0.165, Weighted Pinball Loss: 138.97563162466216\n",
            "Quantile: 0.25, Weighted Pinball Loss: 187.1126545543143\n",
            "Quantile: 0.5, Weighted Pinball Loss: 280.20931972441565\n",
            "Quantile: 0.75, Weighted Pinball Loss: 294.20544449184166\n",
            "Quantile: 0.835, Weighted Pinball Loss: 270.4125793482839\n",
            "Quantile: 0.975, Weighted Pinball Loss: 132.50501255179492\n",
            "Quantile: 0.995, Weighted Pinball Loss: 57.09825232086651\n",
            "Total Weighted Pinball Loss: 155.20649441703526\n"
          ]
        }
      ],
      "source": [
        "# Calculate and print Weighted Pinball Loss for each quantile\n",
        "losses = []\n",
        "for i, qt in enumerate(quantiles):\n",
        "    loss = weighted_pinball_loss(y, train_preds[f'q{i+1}'], weights, qt)\n",
        "    losses.append(loss)\n",
        "    print(f'Quantile: {qt}, Weighted Pinball Loss: {loss}')\n",
        "\n",
        "# Calculate and print total Weighted Pinball Loss\n",
        "total_loss = np.mean(losses)\n",
        "print(f'Total Weighted Pinball Loss: {total_loss}')"
      ]
    },
    {
      "cell_type": "code",
      "execution_count": 66,
      "metadata": {
        "id": "OKtV-34pGn1I"
      },
      "outputs": [],
      "source": [
        "X_test = sm.add_constant(test.drop(columns=['id']))\n",
        "import pandas as pd\n",
        "import numpy as np\n",
        "# Create a dataframe to store the predictions for each model\n",
        "predictions = pd.DataFrame()\n",
        "predictions['id'] = test['id']\n",
        "\n",
        "# Predict values for each model and store in the dataframe\n",
        "for i, model in enumerate(models):\n",
        "    y_pred = model.predict(X_test)\n",
        "    y_pred_actual = scaler.inverse_transform(y_pred.reshape(-1, 1))\n",
        "    predictions[f'q{i+1}'] = y_pred_actual.flatten()\n",
        "\n",
        "# Save the predictions to a CSV file\n",
        "predictions.to_csv('test_quantiles_gardient_boosting_gridsearch.csv', index=False)"
      ]
    },
    {
      "cell_type": "code",
      "execution_count": 67,
      "metadata": {
        "colab": {
          "base_uri": "https://localhost:8080/",
          "height": 17
        },
        "id": "yY5Lj_lcG1MZ",
        "outputId": "758e7412-4984-4813-8dae-211a4774e72d"
      },
      "outputs": [
        {
          "output_type": "display_data",
          "data": {
            "text/plain": [
              "<IPython.core.display.Javascript object>"
            ],
            "application/javascript": [
              "\n",
              "    async function download(id, filename, size) {\n",
              "      if (!google.colab.kernel.accessAllowed) {\n",
              "        return;\n",
              "      }\n",
              "      const div = document.createElement('div');\n",
              "      const label = document.createElement('label');\n",
              "      label.textContent = `Downloading \"${filename}\": `;\n",
              "      div.appendChild(label);\n",
              "      const progress = document.createElement('progress');\n",
              "      progress.max = size;\n",
              "      div.appendChild(progress);\n",
              "      document.body.appendChild(div);\n",
              "\n",
              "      const buffers = [];\n",
              "      let downloaded = 0;\n",
              "\n",
              "      const channel = await google.colab.kernel.comms.open(id);\n",
              "      // Send a message to notify the kernel that we're ready.\n",
              "      channel.send({})\n",
              "\n",
              "      for await (const message of channel.messages) {\n",
              "        // Send a message to notify the kernel that we're ready.\n",
              "        channel.send({})\n",
              "        if (message.buffers) {\n",
              "          for (const buffer of message.buffers) {\n",
              "            buffers.push(buffer);\n",
              "            downloaded += buffer.byteLength;\n",
              "            progress.value = downloaded;\n",
              "          }\n",
              "        }\n",
              "      }\n",
              "      const blob = new Blob(buffers, {type: 'application/binary'});\n",
              "      const a = document.createElement('a');\n",
              "      a.href = window.URL.createObjectURL(blob);\n",
              "      a.download = filename;\n",
              "      div.appendChild(a);\n",
              "      a.click();\n",
              "      div.remove();\n",
              "    }\n",
              "  "
            ]
          },
          "metadata": {}
        },
        {
          "output_type": "display_data",
          "data": {
            "text/plain": [
              "<IPython.core.display.Javascript object>"
            ],
            "application/javascript": [
              "download(\"download_d6d8e069-8835-4aa9-82bf-6c98a51cf8eb\", \"test_quantiles_gardient_boosting_gridsearch.csv\", 30128038)"
            ]
          },
          "metadata": {}
        }
      ],
      "source": [
        "from google.colab import files\n",
        "files.download(\"test_quantiles_gardient_boosting_gridsearch.csv\")"
      ]
    },
    {
      "cell_type": "markdown",
      "metadata": {
        "id": "g0oQ4zRYa7p9"
      },
      "source": [
        "# **Approach3: Deep Learning-based Approach**\n"
      ]
    },
    {
      "cell_type": "markdown",
      "metadata": {
        "id": "XTwm1YBZeGUB"
      },
      "source": [
        "Step 1: Define the Quantile Loss Function\n",
        "\n",
        "Define a custom loss function for the model. This loss function will calculate the quantile loss for the given quantiles"
      ]
    },
    {
      "cell_type": "code",
      "execution_count": 39,
      "metadata": {
        "id": "91k2N1ZpeKDI"
      },
      "outputs": [],
      "source": [
        "import tensorflow as tf\n",
        "\n",
        "def quantile_loss(q, y_true, y_pred):\n",
        "    e = y_true - y_pred\n",
        "    return tf.keras.backend.mean(tf.maximum(q*e, (q-1)*e), axis=-1)\n"
      ]
    },
    {
      "cell_type": "code",
      "source": [
        "def weighted_pinball_loss(quantile,y_true, y_pred, weights):\n",
        "    \"\"\"\n",
        "    Calculate the Weighted Pinball Loss for a given quantile.\n",
        "\n",
        "    Arguments:\n",
        "    y_true -- the true values\n",
        "    y_pred -- the predicted values\n",
        "    weights -- the weights for the data points\n",
        "    quantile -- the quantile at which predictions were made\n",
        "    \"\"\"\n",
        "    delta = y_true - y_pred\n",
        "    loss = np.maximum(quantile * delta, (quantile - 1) * delta)\n",
        "    return np.mean(loss * weights)"
      ],
      "metadata": {
        "id": "kfVecORbsVae"
      },
      "execution_count": 38,
      "outputs": []
    },
    {
      "cell_type": "markdown",
      "metadata": {
        "id": "eBPxnh6reMk7"
      },
      "source": [
        "Step 2: Build the Model\n",
        "\n",
        "Use a sequential model with several layers:"
      ]
    },
    {
      "cell_type": "code",
      "execution_count": 15,
      "metadata": {
        "id": "hvI_uWDneNmo"
      },
      "outputs": [],
      "source": [
        "from tensorflow.keras.models import Sequential\n",
        "from tensorflow.keras.layers import Dense\n",
        "\n",
        "def build_model():\n",
        "    model = Sequential([\n",
        "        Dense(128, activation='relu', input_dim=X_train.shape[1]),\n",
        "        Dense(64, activation='relu'),\n",
        "        Dense(32, activation='relu'),\n",
        "        Dense(9)  # We have 9 quantiles to predict\n",
        "    ])\n",
        "    return model\n"
      ]
    },
    {
      "cell_type": "markdown",
      "metadata": {
        "id": "rMyEd-djeTRU"
      },
      "source": [
        "Step 4: Train the Model for Each Quantile\n",
        "\n",
        "Now, compile and train the model for each of the required quantiles:"
      ]
    },
    {
      "cell_type": "code",
      "source": [
        "X_train = train.drop(columns=['id', 'wi', 'expense'])\n",
        "target = 'expense'\n",
        "y_train = train['expense']\n",
        "weights_train = train['wi']\n",
        "X_test = test.drop(columns=['id'])"
      ],
      "metadata": {
        "id": "1bKma3Weko6M"
      },
      "execution_count": 28,
      "outputs": []
    },
    {
      "cell_type": "code",
      "execution_count": null,
      "metadata": {
        "id": "BHHj6TwKeWTi"
      },
      "outputs": [],
      "source": [
        "quantiles = [0.005, 0.025, 0.165, 0.25, 0.5, 0.75, 0.835, 0.975, 0.995]\n",
        "\n",
        "# Prepare the predictions dataframe\n",
        "predictions = pd.DataFrame(test['id'])\n",
        "\n",
        "for i, q in enumerate(quantiles):\n",
        "    print(f\"Training for quantile {q}\")\n",
        "\n",
        "    model = build_model()\n",
        "    model.compile(loss=lambda y_true, y_pred: quantile_loss(q, y_true, y_pred), optimizer='adam')\n",
        "    model.fit(X_train, y_train, sample_weight=weights_train, epochs=3, batch_size=32, validation_split=0.1)\n",
        "\n",
        "    # Make and store predictions\n",
        "    pred_q = model.predict(X_test)\n",
        "    predictions[f'q{i+1}'] = scaler.inverse_transform(pred_q[:, i].reshape(-1, 1)).flatten()\n",
        "\n",
        "# Save the predictions\n",
        "predictions.to_csv('test_quantiles_deep.csv', index=False)"
      ]
    },
    {
      "cell_type": "code",
      "source": [
        "predictions.head()"
      ],
      "metadata": {
        "colab": {
          "base_uri": "https://localhost:8080/",
          "height": 206
        },
        "id": "6uOFRbbqsxOi",
        "outputId": "a9222e96-f907-4ae8-ef28-3fed0dd361a1"
      },
      "execution_count": 41,
      "outputs": [
        {
          "output_type": "execute_result",
          "data": {
            "text/plain": [
              "       id        q1        q2           q3           q4           q5  \\\n",
              "0  741875 -1.384539  4.238019    81.765610  1149.501343  1947.783813   \n",
              "1  741876 -1.384539  4.238019  1128.408691  1149.501343  1947.783813   \n",
              "2  741877 -1.384539  4.238019    35.390850  1149.501343  1947.783813   \n",
              "3  741878 -1.384539  4.238019   599.754883  1149.501343  1947.783813   \n",
              "4  741879 -1.384539  4.238019   274.901337  1149.501343  1947.783813   \n",
              "\n",
              "           q6          q7           q8            q9  \n",
              "0  3338.27417  4125.61377  3945.496826   8656.571289  \n",
              "1  3338.27417  4125.61377  5355.386230  15450.846680  \n",
              "2  3338.27417  4125.61377  4280.768555  11226.773438  \n",
              "3  3338.27417  4125.61377  5350.181152  17202.601562  \n",
              "4  3338.27417  4125.61377  4371.348145  11492.701172  "
            ],
            "text/html": [
              "\n",
              "  <div id=\"df-edc41e60-cb6e-47bb-a5bf-88dd5127cc03\">\n",
              "    <div class=\"colab-df-container\">\n",
              "      <div>\n",
              "<style scoped>\n",
              "    .dataframe tbody tr th:only-of-type {\n",
              "        vertical-align: middle;\n",
              "    }\n",
              "\n",
              "    .dataframe tbody tr th {\n",
              "        vertical-align: top;\n",
              "    }\n",
              "\n",
              "    .dataframe thead th {\n",
              "        text-align: right;\n",
              "    }\n",
              "</style>\n",
              "<table border=\"1\" class=\"dataframe\">\n",
              "  <thead>\n",
              "    <tr style=\"text-align: right;\">\n",
              "      <th></th>\n",
              "      <th>id</th>\n",
              "      <th>q1</th>\n",
              "      <th>q2</th>\n",
              "      <th>q3</th>\n",
              "      <th>q4</th>\n",
              "      <th>q5</th>\n",
              "      <th>q6</th>\n",
              "      <th>q7</th>\n",
              "      <th>q8</th>\n",
              "      <th>q9</th>\n",
              "    </tr>\n",
              "  </thead>\n",
              "  <tbody>\n",
              "    <tr>\n",
              "      <th>0</th>\n",
              "      <td>741875</td>\n",
              "      <td>-1.384539</td>\n",
              "      <td>4.238019</td>\n",
              "      <td>81.765610</td>\n",
              "      <td>1149.501343</td>\n",
              "      <td>1947.783813</td>\n",
              "      <td>3338.27417</td>\n",
              "      <td>4125.61377</td>\n",
              "      <td>3945.496826</td>\n",
              "      <td>8656.571289</td>\n",
              "    </tr>\n",
              "    <tr>\n",
              "      <th>1</th>\n",
              "      <td>741876</td>\n",
              "      <td>-1.384539</td>\n",
              "      <td>4.238019</td>\n",
              "      <td>1128.408691</td>\n",
              "      <td>1149.501343</td>\n",
              "      <td>1947.783813</td>\n",
              "      <td>3338.27417</td>\n",
              "      <td>4125.61377</td>\n",
              "      <td>5355.386230</td>\n",
              "      <td>15450.846680</td>\n",
              "    </tr>\n",
              "    <tr>\n",
              "      <th>2</th>\n",
              "      <td>741877</td>\n",
              "      <td>-1.384539</td>\n",
              "      <td>4.238019</td>\n",
              "      <td>35.390850</td>\n",
              "      <td>1149.501343</td>\n",
              "      <td>1947.783813</td>\n",
              "      <td>3338.27417</td>\n",
              "      <td>4125.61377</td>\n",
              "      <td>4280.768555</td>\n",
              "      <td>11226.773438</td>\n",
              "    </tr>\n",
              "    <tr>\n",
              "      <th>3</th>\n",
              "      <td>741878</td>\n",
              "      <td>-1.384539</td>\n",
              "      <td>4.238019</td>\n",
              "      <td>599.754883</td>\n",
              "      <td>1149.501343</td>\n",
              "      <td>1947.783813</td>\n",
              "      <td>3338.27417</td>\n",
              "      <td>4125.61377</td>\n",
              "      <td>5350.181152</td>\n",
              "      <td>17202.601562</td>\n",
              "    </tr>\n",
              "    <tr>\n",
              "      <th>4</th>\n",
              "      <td>741879</td>\n",
              "      <td>-1.384539</td>\n",
              "      <td>4.238019</td>\n",
              "      <td>274.901337</td>\n",
              "      <td>1149.501343</td>\n",
              "      <td>1947.783813</td>\n",
              "      <td>3338.27417</td>\n",
              "      <td>4125.61377</td>\n",
              "      <td>4371.348145</td>\n",
              "      <td>11492.701172</td>\n",
              "    </tr>\n",
              "  </tbody>\n",
              "</table>\n",
              "</div>\n",
              "      <button class=\"colab-df-convert\" onclick=\"convertToInteractive('df-edc41e60-cb6e-47bb-a5bf-88dd5127cc03')\"\n",
              "              title=\"Convert this dataframe to an interactive table.\"\n",
              "              style=\"display:none;\">\n",
              "        \n",
              "  <svg xmlns=\"http://www.w3.org/2000/svg\" height=\"24px\"viewBox=\"0 0 24 24\"\n",
              "       width=\"24px\">\n",
              "    <path d=\"M0 0h24v24H0V0z\" fill=\"none\"/>\n",
              "    <path d=\"M18.56 5.44l.94 2.06.94-2.06 2.06-.94-2.06-.94-.94-2.06-.94 2.06-2.06.94zm-11 1L8.5 8.5l.94-2.06 2.06-.94-2.06-.94L8.5 2.5l-.94 2.06-2.06.94zm10 10l.94 2.06.94-2.06 2.06-.94-2.06-.94-.94-2.06-.94 2.06-2.06.94z\"/><path d=\"M17.41 7.96l-1.37-1.37c-.4-.4-.92-.59-1.43-.59-.52 0-1.04.2-1.43.59L10.3 9.45l-7.72 7.72c-.78.78-.78 2.05 0 2.83L4 21.41c.39.39.9.59 1.41.59.51 0 1.02-.2 1.41-.59l7.78-7.78 2.81-2.81c.8-.78.8-2.07 0-2.86zM5.41 20L4 18.59l7.72-7.72 1.47 1.35L5.41 20z\"/>\n",
              "  </svg>\n",
              "      </button>\n",
              "      \n",
              "  <style>\n",
              "    .colab-df-container {\n",
              "      display:flex;\n",
              "      flex-wrap:wrap;\n",
              "      gap: 12px;\n",
              "    }\n",
              "\n",
              "    .colab-df-convert {\n",
              "      background-color: #E8F0FE;\n",
              "      border: none;\n",
              "      border-radius: 50%;\n",
              "      cursor: pointer;\n",
              "      display: none;\n",
              "      fill: #1967D2;\n",
              "      height: 32px;\n",
              "      padding: 0 0 0 0;\n",
              "      width: 32px;\n",
              "    }\n",
              "\n",
              "    .colab-df-convert:hover {\n",
              "      background-color: #E2EBFA;\n",
              "      box-shadow: 0px 1px 2px rgba(60, 64, 67, 0.3), 0px 1px 3px 1px rgba(60, 64, 67, 0.15);\n",
              "      fill: #174EA6;\n",
              "    }\n",
              "\n",
              "    [theme=dark] .colab-df-convert {\n",
              "      background-color: #3B4455;\n",
              "      fill: #D2E3FC;\n",
              "    }\n",
              "\n",
              "    [theme=dark] .colab-df-convert:hover {\n",
              "      background-color: #434B5C;\n",
              "      box-shadow: 0px 1px 3px 1px rgba(0, 0, 0, 0.15);\n",
              "      filter: drop-shadow(0px 1px 2px rgba(0, 0, 0, 0.3));\n",
              "      fill: #FFFFFF;\n",
              "    }\n",
              "  </style>\n",
              "\n",
              "      <script>\n",
              "        const buttonEl =\n",
              "          document.querySelector('#df-edc41e60-cb6e-47bb-a5bf-88dd5127cc03 button.colab-df-convert');\n",
              "        buttonEl.style.display =\n",
              "          google.colab.kernel.accessAllowed ? 'block' : 'none';\n",
              "\n",
              "        async function convertToInteractive(key) {\n",
              "          const element = document.querySelector('#df-edc41e60-cb6e-47bb-a5bf-88dd5127cc03');\n",
              "          const dataTable =\n",
              "            await google.colab.kernel.invokeFunction('convertToInteractive',\n",
              "                                                     [key], {});\n",
              "          if (!dataTable) return;\n",
              "\n",
              "          const docLinkHtml = 'Like what you see? Visit the ' +\n",
              "            '<a target=\"_blank\" href=https://colab.research.google.com/notebooks/data_table.ipynb>data table notebook</a>'\n",
              "            + ' to learn more about interactive tables.';\n",
              "          element.innerHTML = '';\n",
              "          dataTable['output_type'] = 'display_data';\n",
              "          await google.colab.output.renderOutput(dataTable, element);\n",
              "          const docLink = document.createElement('div');\n",
              "          docLink.innerHTML = docLinkHtml;\n",
              "          element.appendChild(docLink);\n",
              "        }\n",
              "      </script>\n",
              "    </div>\n",
              "  </div>\n",
              "  "
            ]
          },
          "metadata": {},
          "execution_count": 41
        }
      ]
    },
    {
      "cell_type": "code",
      "execution_count": 42,
      "metadata": {
        "colab": {
          "base_uri": "https://localhost:8080/",
          "height": 17
        },
        "id": "BHN-Ln8ZkAvn",
        "outputId": "80bdde22-3f6b-48c9-ae45-ae9e7501a947"
      },
      "outputs": [
        {
          "output_type": "display_data",
          "data": {
            "text/plain": [
              "<IPython.core.display.Javascript object>"
            ],
            "application/javascript": [
              "\n",
              "    async function download(id, filename, size) {\n",
              "      if (!google.colab.kernel.accessAllowed) {\n",
              "        return;\n",
              "      }\n",
              "      const div = document.createElement('div');\n",
              "      const label = document.createElement('label');\n",
              "      label.textContent = `Downloading \"${filename}\": `;\n",
              "      div.appendChild(label);\n",
              "      const progress = document.createElement('progress');\n",
              "      progress.max = size;\n",
              "      div.appendChild(progress);\n",
              "      document.body.appendChild(div);\n",
              "\n",
              "      const buffers = [];\n",
              "      let downloaded = 0;\n",
              "\n",
              "      const channel = await google.colab.kernel.comms.open(id);\n",
              "      // Send a message to notify the kernel that we're ready.\n",
              "      channel.send({})\n",
              "\n",
              "      for await (const message of channel.messages) {\n",
              "        // Send a message to notify the kernel that we're ready.\n",
              "        channel.send({})\n",
              "        if (message.buffers) {\n",
              "          for (const buffer of message.buffers) {\n",
              "            buffers.push(buffer);\n",
              "            downloaded += buffer.byteLength;\n",
              "            progress.value = downloaded;\n",
              "          }\n",
              "        }\n",
              "      }\n",
              "      const blob = new Blob(buffers, {type: 'application/binary'});\n",
              "      const a = document.createElement('a');\n",
              "      a.href = window.URL.createObjectURL(blob);\n",
              "      a.download = filename;\n",
              "      div.appendChild(a);\n",
              "      a.click();\n",
              "      div.remove();\n",
              "    }\n",
              "  "
            ]
          },
          "metadata": {}
        },
        {
          "output_type": "display_data",
          "data": {
            "text/plain": [
              "<IPython.core.display.Javascript object>"
            ],
            "application/javascript": [
              "download(\"download_ed01bf0f-c3d3-4c60-831e-2afe547e7d3c\", \"test_quantiles_deep.csv\", 17603940)"
            ]
          },
          "metadata": {}
        }
      ],
      "source": [
        "from google.colab import files\n",
        "files.download(\"test_quantiles_deep.csv\")"
      ]
    },
    {
      "cell_type": "markdown",
      "metadata": {
        "id": "OV9tMMqEeZTE"
      },
      "source": [
        "To enhance the efficiency of the code, I aim to revise the training process so that all quantiles can learn concurrently. This can be achieved by adjusting the model to yield as many predictions as the number of quantiles I possess, and tailoring the bespoke loss function to calculate the quantile loss for each outcome. Here's the updated model:\n",
        "\n",
        "Step 1: Refine the Quantile Loss Function\n",
        "\n",
        "Let's devise a quantile loss function that can simultaneously handle multiple quantiles."
      ]
    },
    {
      "cell_type": "code",
      "execution_count": 43,
      "metadata": {
        "id": "ABrxTdo8ew1H"
      },
      "outputs": [],
      "source": [
        "import tensorflow as tf\n",
        "\n",
        "def multi_quantile_loss(y_true, y_pred):\n",
        "    quantiles = tf.constant([0.005, 0.025, 0.165, 0.25, 0.5, 0.75, 0.835, 0.975, 0.995])\n",
        "    e = y_true - y_pred\n",
        "    v = tf.maximum(quantiles * e, (quantiles-1) * e)\n",
        "    return tf.reduce_mean(v, axis=-1)"
      ]
    },
    {
      "cell_type": "markdown",
      "metadata": {
        "id": "UH7wMphNezUI"
      },
      "source": [
        "Step 2: Modify the Model Architecture\n",
        "I need to output as many values as there are quantiles, so the last layer should have 9 neurons."
      ]
    },
    {
      "cell_type": "code",
      "source": [
        "# train_x = train.drop(columns=['id', 'wi', 'expense'])\n",
        "# target = 'expense'\n",
        "\n",
        "# X = train_x\n",
        "# y = train[target]\n",
        "# weights = train['wi']\n",
        "\n",
        "X_train = train.drop(columns=['id', 'wi', 'expense'])\n",
        "y_train = train['expense']\n",
        "weights_train = train['wi']\n",
        "X_test = test.drop(columns=['id'])"
      ],
      "metadata": {
        "id": "nn_CKz1qtI8i"
      },
      "execution_count": null,
      "outputs": []
    },
    {
      "cell_type": "code",
      "execution_count": 44,
      "metadata": {
        "id": "xumhWE9ge1WJ"
      },
      "outputs": [],
      "source": [
        "from tensorflow.keras.models import Sequential\n",
        "from tensorflow.keras.layers import Dense\n",
        "\n",
        "def build_model():\n",
        "    model = Sequential([\n",
        "        Dense(128, activation='relu', input_dim=X_train.shape[1]),\n",
        "        Dense(64, activation='relu'),\n",
        "        Dense(32, activation='relu'),\n",
        "        Dense(len(quantiles))  # We have 9 quantiles to predict\n",
        "    ])\n",
        "    return model\n"
      ]
    },
    {
      "cell_type": "markdown",
      "metadata": {
        "id": "Sx7Zeybme3Lu"
      },
      "source": [
        "Step 3: Train the Model\n",
        "Finally, compile and fit the model with the new multi-quantile loss:"
      ]
    },
    {
      "cell_type": "code",
      "source": [
        "quantiles = [0.005, 0.025, 0.165, 0.25, 0.5, 0.75, 0.835, 0.975, 0.995]\n",
        "model = build_model()\n",
        "\n",
        "model.compile(loss=multi_quantile_loss, optimizer='adam')\n",
        "model.fit(X_train, np.repeat(y_train.values[:, np.newaxis], len(quantiles), axis=1),\n",
        "          sample_weight=weights_train, epochs=10, batch_size=32, validation_split=0.1)"
      ],
      "metadata": {
        "id": "EFJg-Pimmxst"
      },
      "execution_count": null,
      "outputs": []
    },
    {
      "cell_type": "markdown",
      "metadata": {
        "id": "7VF3Xx5Ae7PR"
      },
      "source": [
        "This model will output 9 values for each input example, each one corresponding to a quantile prediction.\n",
        "\n",
        "Step 4: Make Predictions\n",
        "\n",
        "We will now use this model to make predictions on the test set:"
      ]
    },
    {
      "cell_type": "code",
      "source": [
        "# Prepare the predictions dataframe\n",
        "predictions = pd.DataFrame(test['id'])\n",
        "\n",
        "# Make and store predictions\n",
        "preds = model.predict(test.drop(columns=['id']))\n",
        "\n",
        "for i in range(len(quantiles)):\n",
        "    predictions[f'q{i+1}'] = scaler.inverse_transform(preds[:, i].reshape(-1, 1)).flatten()\n",
        "\n",
        "# Save the predictions\n",
        "predictions.to_csv('test_quantiles_deep_simultaneous2.csv', index=False)\n"
      ],
      "metadata": {
        "colab": {
          "base_uri": "https://localhost:8080/"
        },
        "id": "YEfRX-uWQQ21",
        "outputId": "594d3b42-0573-4d56-bc69-7dd24ac90daa"
      },
      "execution_count": 46,
      "outputs": [
        {
          "output_type": "stream",
          "name": "stdout",
          "text": [
            "5796/5796 [==============================] - 6s 1ms/step\n"
          ]
        }
      ]
    },
    {
      "cell_type": "code",
      "source": [
        "predictions.head()"
      ],
      "metadata": {
        "colab": {
          "base_uri": "https://localhost:8080/",
          "height": 250
        },
        "id": "uDJsb_6Vm1Mx",
        "outputId": "1ac98de9-9d20-4268-8abe-71b90efd7de9"
      },
      "execution_count": 47,
      "outputs": [
        {
          "output_type": "execute_result",
          "data": {
            "text/plain": [
              "       id         q1         q2           q3           q4           q5  \\\n",
              "0  741875 -12.667986  32.575176   276.779510   374.373505   649.523193   \n",
              "1  741876  -1.400652   8.246809  1349.705078  1633.275635  2226.911621   \n",
              "2  741877  -2.914080  23.808332   479.283905   603.560547   910.456909   \n",
              "3  741878  -0.997820  13.768538   997.388428  1214.969116  1689.558838   \n",
              "4  741879  -0.629900  18.812971   675.498779   832.788574  1198.613281   \n",
              "\n",
              "            q6           q7           q8            q9  \n",
              "0  1008.164429  1283.926025  3002.482910   7203.711914  \n",
              "1  3179.037598  3748.308594  8054.587402  18833.769531  \n",
              "2  1389.121826  1694.716187  3583.371582   8710.268555  \n",
              "3  2449.155029  2909.734863  6188.397461  14615.370117  \n",
              "4  1782.307373  2143.582764  4483.376953  10761.283203  "
            ],
            "text/html": [
              "\n",
              "  <div id=\"df-0fa234f9-40ee-432b-8cd4-84ee1aecf5d9\">\n",
              "    <div class=\"colab-df-container\">\n",
              "      <div>\n",
              "<style scoped>\n",
              "    .dataframe tbody tr th:only-of-type {\n",
              "        vertical-align: middle;\n",
              "    }\n",
              "\n",
              "    .dataframe tbody tr th {\n",
              "        vertical-align: top;\n",
              "    }\n",
              "\n",
              "    .dataframe thead th {\n",
              "        text-align: right;\n",
              "    }\n",
              "</style>\n",
              "<table border=\"1\" class=\"dataframe\">\n",
              "  <thead>\n",
              "    <tr style=\"text-align: right;\">\n",
              "      <th></th>\n",
              "      <th>id</th>\n",
              "      <th>q1</th>\n",
              "      <th>q2</th>\n",
              "      <th>q3</th>\n",
              "      <th>q4</th>\n",
              "      <th>q5</th>\n",
              "      <th>q6</th>\n",
              "      <th>q7</th>\n",
              "      <th>q8</th>\n",
              "      <th>q9</th>\n",
              "    </tr>\n",
              "  </thead>\n",
              "  <tbody>\n",
              "    <tr>\n",
              "      <th>0</th>\n",
              "      <td>741875</td>\n",
              "      <td>-12.667986</td>\n",
              "      <td>32.575176</td>\n",
              "      <td>276.779510</td>\n",
              "      <td>374.373505</td>\n",
              "      <td>649.523193</td>\n",
              "      <td>1008.164429</td>\n",
              "      <td>1283.926025</td>\n",
              "      <td>3002.482910</td>\n",
              "      <td>7203.711914</td>\n",
              "    </tr>\n",
              "    <tr>\n",
              "      <th>1</th>\n",
              "      <td>741876</td>\n",
              "      <td>-1.400652</td>\n",
              "      <td>8.246809</td>\n",
              "      <td>1349.705078</td>\n",
              "      <td>1633.275635</td>\n",
              "      <td>2226.911621</td>\n",
              "      <td>3179.037598</td>\n",
              "      <td>3748.308594</td>\n",
              "      <td>8054.587402</td>\n",
              "      <td>18833.769531</td>\n",
              "    </tr>\n",
              "    <tr>\n",
              "      <th>2</th>\n",
              "      <td>741877</td>\n",
              "      <td>-2.914080</td>\n",
              "      <td>23.808332</td>\n",
              "      <td>479.283905</td>\n",
              "      <td>603.560547</td>\n",
              "      <td>910.456909</td>\n",
              "      <td>1389.121826</td>\n",
              "      <td>1694.716187</td>\n",
              "      <td>3583.371582</td>\n",
              "      <td>8710.268555</td>\n",
              "    </tr>\n",
              "    <tr>\n",
              "      <th>3</th>\n",
              "      <td>741878</td>\n",
              "      <td>-0.997820</td>\n",
              "      <td>13.768538</td>\n",
              "      <td>997.388428</td>\n",
              "      <td>1214.969116</td>\n",
              "      <td>1689.558838</td>\n",
              "      <td>2449.155029</td>\n",
              "      <td>2909.734863</td>\n",
              "      <td>6188.397461</td>\n",
              "      <td>14615.370117</td>\n",
              "    </tr>\n",
              "    <tr>\n",
              "      <th>4</th>\n",
              "      <td>741879</td>\n",
              "      <td>-0.629900</td>\n",
              "      <td>18.812971</td>\n",
              "      <td>675.498779</td>\n",
              "      <td>832.788574</td>\n",
              "      <td>1198.613281</td>\n",
              "      <td>1782.307373</td>\n",
              "      <td>2143.582764</td>\n",
              "      <td>4483.376953</td>\n",
              "      <td>10761.283203</td>\n",
              "    </tr>\n",
              "  </tbody>\n",
              "</table>\n",
              "</div>\n",
              "      <button class=\"colab-df-convert\" onclick=\"convertToInteractive('df-0fa234f9-40ee-432b-8cd4-84ee1aecf5d9')\"\n",
              "              title=\"Convert this dataframe to an interactive table.\"\n",
              "              style=\"display:none;\">\n",
              "        \n",
              "  <svg xmlns=\"http://www.w3.org/2000/svg\" height=\"24px\"viewBox=\"0 0 24 24\"\n",
              "       width=\"24px\">\n",
              "    <path d=\"M0 0h24v24H0V0z\" fill=\"none\"/>\n",
              "    <path d=\"M18.56 5.44l.94 2.06.94-2.06 2.06-.94-2.06-.94-.94-2.06-.94 2.06-2.06.94zm-11 1L8.5 8.5l.94-2.06 2.06-.94-2.06-.94L8.5 2.5l-.94 2.06-2.06.94zm10 10l.94 2.06.94-2.06 2.06-.94-2.06-.94-.94-2.06-.94 2.06-2.06.94z\"/><path d=\"M17.41 7.96l-1.37-1.37c-.4-.4-.92-.59-1.43-.59-.52 0-1.04.2-1.43.59L10.3 9.45l-7.72 7.72c-.78.78-.78 2.05 0 2.83L4 21.41c.39.39.9.59 1.41.59.51 0 1.02-.2 1.41-.59l7.78-7.78 2.81-2.81c.8-.78.8-2.07 0-2.86zM5.41 20L4 18.59l7.72-7.72 1.47 1.35L5.41 20z\"/>\n",
              "  </svg>\n",
              "      </button>\n",
              "      \n",
              "  <style>\n",
              "    .colab-df-container {\n",
              "      display:flex;\n",
              "      flex-wrap:wrap;\n",
              "      gap: 12px;\n",
              "    }\n",
              "\n",
              "    .colab-df-convert {\n",
              "      background-color: #E8F0FE;\n",
              "      border: none;\n",
              "      border-radius: 50%;\n",
              "      cursor: pointer;\n",
              "      display: none;\n",
              "      fill: #1967D2;\n",
              "      height: 32px;\n",
              "      padding: 0 0 0 0;\n",
              "      width: 32px;\n",
              "    }\n",
              "\n",
              "    .colab-df-convert:hover {\n",
              "      background-color: #E2EBFA;\n",
              "      box-shadow: 0px 1px 2px rgba(60, 64, 67, 0.3), 0px 1px 3px 1px rgba(60, 64, 67, 0.15);\n",
              "      fill: #174EA6;\n",
              "    }\n",
              "\n",
              "    [theme=dark] .colab-df-convert {\n",
              "      background-color: #3B4455;\n",
              "      fill: #D2E3FC;\n",
              "    }\n",
              "\n",
              "    [theme=dark] .colab-df-convert:hover {\n",
              "      background-color: #434B5C;\n",
              "      box-shadow: 0px 1px 3px 1px rgba(0, 0, 0, 0.15);\n",
              "      filter: drop-shadow(0px 1px 2px rgba(0, 0, 0, 0.3));\n",
              "      fill: #FFFFFF;\n",
              "    }\n",
              "  </style>\n",
              "\n",
              "      <script>\n",
              "        const buttonEl =\n",
              "          document.querySelector('#df-0fa234f9-40ee-432b-8cd4-84ee1aecf5d9 button.colab-df-convert');\n",
              "        buttonEl.style.display =\n",
              "          google.colab.kernel.accessAllowed ? 'block' : 'none';\n",
              "\n",
              "        async function convertToInteractive(key) {\n",
              "          const element = document.querySelector('#df-0fa234f9-40ee-432b-8cd4-84ee1aecf5d9');\n",
              "          const dataTable =\n",
              "            await google.colab.kernel.invokeFunction('convertToInteractive',\n",
              "                                                     [key], {});\n",
              "          if (!dataTable) return;\n",
              "\n",
              "          const docLinkHtml = 'Like what you see? Visit the ' +\n",
              "            '<a target=\"_blank\" href=https://colab.research.google.com/notebooks/data_table.ipynb>data table notebook</a>'\n",
              "            + ' to learn more about interactive tables.';\n",
              "          element.innerHTML = '';\n",
              "          dataTable['output_type'] = 'display_data';\n",
              "          await google.colab.output.renderOutput(dataTable, element);\n",
              "          const docLink = document.createElement('div');\n",
              "          docLink.innerHTML = docLinkHtml;\n",
              "          element.appendChild(docLink);\n",
              "        }\n",
              "      </script>\n",
              "    </div>\n",
              "  </div>\n",
              "  "
            ]
          },
          "metadata": {},
          "execution_count": 47
        }
      ]
    },
    {
      "cell_type": "code",
      "source": [
        "predictions.head()"
      ],
      "metadata": {
        "colab": {
          "base_uri": "https://localhost:8080/",
          "height": 204
        },
        "id": "zzaWNENBRN5Z",
        "outputId": "0808f16f-e4d5-4a38-acbd-5fced562d544"
      },
      "execution_count": null,
      "outputs": [
        {
          "output_type": "execute_result",
          "data": {
            "text/plain": [
              "       id        q1         q2           q3           q4           q5  \\\n",
              "0  741875 -8.028093  60.373760   313.719452   405.256561   624.270020   \n",
              "1  741876  6.242414  13.421858  1266.439209  1535.259521  2185.485107   \n",
              "2  741877 -7.446795  58.401592   345.632538   443.227264   676.555420   \n",
              "3  741878  2.647687  24.166975   899.621704  1102.375122  1584.195557   \n",
              "4  741879 -3.204119  44.013165   578.467041   720.258545  1058.024780   \n",
              "\n",
              "            q6           q7           q8            q9  \n",
              "0   925.366333  1146.326660  2731.539307   7644.960938  \n",
              "1  3100.982910  3637.899658  7919.957031  17861.041016  \n",
              "2   997.536987  1228.836060  2898.316895   7973.282227  \n",
              "3  2250.374756  2661.145264  5793.466309  13672.725586  \n",
              "4  1524.088623  1830.817139  4115.110840  10368.684570  "
            ],
            "text/html": [
              "\n",
              "  <div id=\"df-4953a86e-0985-4d12-b5f3-41e34842ecaa\">\n",
              "    <div class=\"colab-df-container\">\n",
              "      <div>\n",
              "<style scoped>\n",
              "    .dataframe tbody tr th:only-of-type {\n",
              "        vertical-align: middle;\n",
              "    }\n",
              "\n",
              "    .dataframe tbody tr th {\n",
              "        vertical-align: top;\n",
              "    }\n",
              "\n",
              "    .dataframe thead th {\n",
              "        text-align: right;\n",
              "    }\n",
              "</style>\n",
              "<table border=\"1\" class=\"dataframe\">\n",
              "  <thead>\n",
              "    <tr style=\"text-align: right;\">\n",
              "      <th></th>\n",
              "      <th>id</th>\n",
              "      <th>q1</th>\n",
              "      <th>q2</th>\n",
              "      <th>q3</th>\n",
              "      <th>q4</th>\n",
              "      <th>q5</th>\n",
              "      <th>q6</th>\n",
              "      <th>q7</th>\n",
              "      <th>q8</th>\n",
              "      <th>q9</th>\n",
              "    </tr>\n",
              "  </thead>\n",
              "  <tbody>\n",
              "    <tr>\n",
              "      <th>0</th>\n",
              "      <td>741875</td>\n",
              "      <td>-8.028093</td>\n",
              "      <td>60.373760</td>\n",
              "      <td>313.719452</td>\n",
              "      <td>405.256561</td>\n",
              "      <td>624.270020</td>\n",
              "      <td>925.366333</td>\n",
              "      <td>1146.326660</td>\n",
              "      <td>2731.539307</td>\n",
              "      <td>7644.960938</td>\n",
              "    </tr>\n",
              "    <tr>\n",
              "      <th>1</th>\n",
              "      <td>741876</td>\n",
              "      <td>6.242414</td>\n",
              "      <td>13.421858</td>\n",
              "      <td>1266.439209</td>\n",
              "      <td>1535.259521</td>\n",
              "      <td>2185.485107</td>\n",
              "      <td>3100.982910</td>\n",
              "      <td>3637.899658</td>\n",
              "      <td>7919.957031</td>\n",
              "      <td>17861.041016</td>\n",
              "    </tr>\n",
              "    <tr>\n",
              "      <th>2</th>\n",
              "      <td>741877</td>\n",
              "      <td>-7.446795</td>\n",
              "      <td>58.401592</td>\n",
              "      <td>345.632538</td>\n",
              "      <td>443.227264</td>\n",
              "      <td>676.555420</td>\n",
              "      <td>997.536987</td>\n",
              "      <td>1228.836060</td>\n",
              "      <td>2898.316895</td>\n",
              "      <td>7973.282227</td>\n",
              "    </tr>\n",
              "    <tr>\n",
              "      <th>3</th>\n",
              "      <td>741878</td>\n",
              "      <td>2.647687</td>\n",
              "      <td>24.166975</td>\n",
              "      <td>899.621704</td>\n",
              "      <td>1102.375122</td>\n",
              "      <td>1584.195557</td>\n",
              "      <td>2250.374756</td>\n",
              "      <td>2661.145264</td>\n",
              "      <td>5793.466309</td>\n",
              "      <td>13672.725586</td>\n",
              "    </tr>\n",
              "    <tr>\n",
              "      <th>4</th>\n",
              "      <td>741879</td>\n",
              "      <td>-3.204119</td>\n",
              "      <td>44.013165</td>\n",
              "      <td>578.467041</td>\n",
              "      <td>720.258545</td>\n",
              "      <td>1058.024780</td>\n",
              "      <td>1524.088623</td>\n",
              "      <td>1830.817139</td>\n",
              "      <td>4115.110840</td>\n",
              "      <td>10368.684570</td>\n",
              "    </tr>\n",
              "  </tbody>\n",
              "</table>\n",
              "</div>\n",
              "      <button class=\"colab-df-convert\" onclick=\"convertToInteractive('df-4953a86e-0985-4d12-b5f3-41e34842ecaa')\"\n",
              "              title=\"Convert this dataframe to an interactive table.\"\n",
              "              style=\"display:none;\">\n",
              "        \n",
              "  <svg xmlns=\"http://www.w3.org/2000/svg\" height=\"24px\"viewBox=\"0 0 24 24\"\n",
              "       width=\"24px\">\n",
              "    <path d=\"M0 0h24v24H0V0z\" fill=\"none\"/>\n",
              "    <path d=\"M18.56 5.44l.94 2.06.94-2.06 2.06-.94-2.06-.94-.94-2.06-.94 2.06-2.06.94zm-11 1L8.5 8.5l.94-2.06 2.06-.94-2.06-.94L8.5 2.5l-.94 2.06-2.06.94zm10 10l.94 2.06.94-2.06 2.06-.94-2.06-.94-.94-2.06-.94 2.06-2.06.94z\"/><path d=\"M17.41 7.96l-1.37-1.37c-.4-.4-.92-.59-1.43-.59-.52 0-1.04.2-1.43.59L10.3 9.45l-7.72 7.72c-.78.78-.78 2.05 0 2.83L4 21.41c.39.39.9.59 1.41.59.51 0 1.02-.2 1.41-.59l7.78-7.78 2.81-2.81c.8-.78.8-2.07 0-2.86zM5.41 20L4 18.59l7.72-7.72 1.47 1.35L5.41 20z\"/>\n",
              "  </svg>\n",
              "      </button>\n",
              "      \n",
              "  <style>\n",
              "    .colab-df-container {\n",
              "      display:flex;\n",
              "      flex-wrap:wrap;\n",
              "      gap: 12px;\n",
              "    }\n",
              "\n",
              "    .colab-df-convert {\n",
              "      background-color: #E8F0FE;\n",
              "      border: none;\n",
              "      border-radius: 50%;\n",
              "      cursor: pointer;\n",
              "      display: none;\n",
              "      fill: #1967D2;\n",
              "      height: 32px;\n",
              "      padding: 0 0 0 0;\n",
              "      width: 32px;\n",
              "    }\n",
              "\n",
              "    .colab-df-convert:hover {\n",
              "      background-color: #E2EBFA;\n",
              "      box-shadow: 0px 1px 2px rgba(60, 64, 67, 0.3), 0px 1px 3px 1px rgba(60, 64, 67, 0.15);\n",
              "      fill: #174EA6;\n",
              "    }\n",
              "\n",
              "    [theme=dark] .colab-df-convert {\n",
              "      background-color: #3B4455;\n",
              "      fill: #D2E3FC;\n",
              "    }\n",
              "\n",
              "    [theme=dark] .colab-df-convert:hover {\n",
              "      background-color: #434B5C;\n",
              "      box-shadow: 0px 1px 3px 1px rgba(0, 0, 0, 0.15);\n",
              "      filter: drop-shadow(0px 1px 2px rgba(0, 0, 0, 0.3));\n",
              "      fill: #FFFFFF;\n",
              "    }\n",
              "  </style>\n",
              "\n",
              "      <script>\n",
              "        const buttonEl =\n",
              "          document.querySelector('#df-4953a86e-0985-4d12-b5f3-41e34842ecaa button.colab-df-convert');\n",
              "        buttonEl.style.display =\n",
              "          google.colab.kernel.accessAllowed ? 'block' : 'none';\n",
              "\n",
              "        async function convertToInteractive(key) {\n",
              "          const element = document.querySelector('#df-4953a86e-0985-4d12-b5f3-41e34842ecaa');\n",
              "          const dataTable =\n",
              "            await google.colab.kernel.invokeFunction('convertToInteractive',\n",
              "                                                     [key], {});\n",
              "          if (!dataTable) return;\n",
              "\n",
              "          const docLinkHtml = 'Like what you see? Visit the ' +\n",
              "            '<a target=\"_blank\" href=https://colab.research.google.com/notebooks/data_table.ipynb>data table notebook</a>'\n",
              "            + ' to learn more about interactive tables.';\n",
              "          element.innerHTML = '';\n",
              "          dataTable['output_type'] = 'display_data';\n",
              "          await google.colab.output.renderOutput(dataTable, element);\n",
              "          const docLink = document.createElement('div');\n",
              "          docLink.innerHTML = docLinkHtml;\n",
              "          element.appendChild(docLink);\n",
              "        }\n",
              "      </script>\n",
              "    </div>\n",
              "  </div>\n",
              "  "
            ]
          },
          "metadata": {},
          "execution_count": 40
        }
      ]
    },
    {
      "cell_type": "code",
      "execution_count": 48,
      "metadata": {
        "id": "ZfGxSgcOLhai",
        "colab": {
          "base_uri": "https://localhost:8080/",
          "height": 17
        },
        "outputId": "f96d7207-dc94-4aea-92c8-0c46cfc9ef19"
      },
      "outputs": [
        {
          "output_type": "display_data",
          "data": {
            "text/plain": [
              "<IPython.core.display.Javascript object>"
            ],
            "application/javascript": [
              "\n",
              "    async function download(id, filename, size) {\n",
              "      if (!google.colab.kernel.accessAllowed) {\n",
              "        return;\n",
              "      }\n",
              "      const div = document.createElement('div');\n",
              "      const label = document.createElement('label');\n",
              "      label.textContent = `Downloading \"${filename}\": `;\n",
              "      div.appendChild(label);\n",
              "      const progress = document.createElement('progress');\n",
              "      progress.max = size;\n",
              "      div.appendChild(progress);\n",
              "      document.body.appendChild(div);\n",
              "\n",
              "      const buffers = [];\n",
              "      let downloaded = 0;\n",
              "\n",
              "      const channel = await google.colab.kernel.comms.open(id);\n",
              "      // Send a message to notify the kernel that we're ready.\n",
              "      channel.send({})\n",
              "\n",
              "      for await (const message of channel.messages) {\n",
              "        // Send a message to notify the kernel that we're ready.\n",
              "        channel.send({})\n",
              "        if (message.buffers) {\n",
              "          for (const buffer of message.buffers) {\n",
              "            buffers.push(buffer);\n",
              "            downloaded += buffer.byteLength;\n",
              "            progress.value = downloaded;\n",
              "          }\n",
              "        }\n",
              "      }\n",
              "      const blob = new Blob(buffers, {type: 'application/binary'});\n",
              "      const a = document.createElement('a');\n",
              "      a.href = window.URL.createObjectURL(blob);\n",
              "      a.download = filename;\n",
              "      div.appendChild(a);\n",
              "      a.click();\n",
              "      div.remove();\n",
              "    }\n",
              "  "
            ]
          },
          "metadata": {}
        },
        {
          "output_type": "display_data",
          "data": {
            "text/plain": [
              "<IPython.core.display.Javascript object>"
            ],
            "application/javascript": [
              "download(\"download_a6cb1683-5201-4686-b757-fd58b0bdf0b0\", \"test_quantiles_deep_simultaneous2.csv\", 17712026)"
            ]
          },
          "metadata": {}
        }
      ],
      "source": [
        "from google.colab import files\n",
        "files.download(\"test_quantiles_deep_simultaneous.csv\")"
      ]
    },
    {
      "cell_type": "markdown",
      "metadata": {
        "id": "o72kRWgSfBS8"
      },
      "source": [
        "This model treats the problem as a multi-output regression task, where the network simultaneously predicts all the quantiles."
      ]
    },
    {
      "cell_type": "markdown",
      "metadata": {
        "id": "fQ9lkxCyRmCt"
      },
      "source": [
        "## **Approach4: Variational Auto Encoder for Quantile Regression**\n",
        "\n",
        "A Variational Autoencoder (VAE) is a type of generative model that can learn the distribution of a given dataset. Here, it's suggested to use the VAE to learn the distribution of expenses, which can then be used to extract the quantiles of interest.\n",
        "The Variational Autoencoder (VAE) can indeed be adapted to solve this task. Instead of generating new data as in the traditional use of VAEs, we will use the latent space of the VAE to predict the different quantiles of the target distribution.\n",
        "\n",
        "In the setup we will use, the encoder part of the VAE will learn a meaningful representation of the input data in the latent space, and the decoder will be tasked to predict the quantiles from this latent representation.\n",
        "\n",
        "Here's a summary of how the modified VAE is set up:\n",
        "\n",
        "The encoder part of the VAE takes in the input features and maps them to a lower-dimensional latent space. This part is trained to learn a meaningful representation of data.\n",
        "The decoder part, instead of reconstructing the original input as in a traditional VAE, is tasked to predict the quantiles from the learned representation (latent variables).\n",
        "During training, the custom loss function combines the quantile loss (that calculates the deviation of the predicted quantiles from the true ones) and the Kullback-Leibler (KL) divergence (that forces the distribution of the latent variables to approximate a standard normal distribution).\n",
        "In other words, the power of the VAE architecture is still being leveraged, but in a manner that is tailored to the specific needs of this problem: quantile regression with weighted samples."
      ]
    },
    {
      "cell_type": "code",
      "execution_count": 49,
      "metadata": {
        "id": "MpSv3fo7ZRTo"
      },
      "outputs": [],
      "source": [
        "import numpy as np\n",
        "import pandas as pd\n",
        "from tensorflow.keras.layers import Input, Dense, Lambda\n",
        "from tensorflow.keras.models import Model\n",
        "from tensorflow.keras.optimizers import Adam\n",
        "from tensorflow.keras import backend as K"
      ]
    },
    {
      "cell_type": "code",
      "source": [
        "X_train= train.drop(columns=['id', 'wi', 'expense'])\n",
        "y_train= train['expense']\n",
        "weights = train['wi']\n",
        "X_test= test.drop(columns=['id'])"
      ],
      "metadata": {
        "id": "vkTQlaiWuR0b"
      },
      "execution_count": 50,
      "outputs": []
    },
    {
      "cell_type": "markdown",
      "metadata": {
        "id": "p4JctSXZaSZ9"
      },
      "source": [
        "Next, we will define the architecture for the Variational Autoencoder:"
      ]
    },
    {
      "cell_type": "code",
      "source": [
        "# Define the structure of the VAE\n",
        "original_dim = X_train.shape[1]  # Number of features\n",
        "intermediate_dim = 64  # Number of neurons in the hidden layer\n",
        "latent_dim = 2  # Dimension of the latent space\n",
        "\n",
        "# Define the encoder part\n",
        "inputs = Input(shape=(original_dim,), name='encoder_input')\n",
        "x = Dense(intermediate_dim, activation='relu')(inputs)\n",
        "z_mean = Dense(latent_dim, name='z_mean')(x)\n",
        "z_log_var = Dense(latent_dim, name='z_log_var')(x)\n",
        "\n",
        "# Define the sampling function\n",
        "def sampling(args):\n",
        "    z_mean, z_log_var = args\n",
        "    epsilon = K.random_normal(shape=(K.shape(z_mean)[0], latent_dim), mean=0., stddev=1.)\n",
        "    return z_mean + K.exp(z_log_var / 2) * epsilon\n",
        "\n",
        "z = Lambda(sampling, output_shape=(latent_dim,), name='z')([z_mean, z_log_var])\n",
        "\n",
        "# Define the decoder part\n",
        "latent_inputs = Input(shape=(latent_dim,), name='z_sampling')\n",
        "x = Dense(intermediate_dim, activation='relu')(latent_inputs)\n",
        "\n",
        "# Predict the different quantiles from the latent space\n",
        "outputs = [Dense(1)(x) for _ in range(len(quantiles))]\n",
        "\n",
        "# Instantiate the VAE model\n",
        "encoder = Model(inputs, [z_mean, z_log_var, z], name='encoder')\n",
        "decoder = Model(latent_inputs, outputs, name='decoder')\n",
        "outputs = decoder(encoder(inputs)[2])\n",
        "vae = Model(inputs, outputs, name='vae_mlp')\n"
      ],
      "metadata": {
        "id": "0dP7icQdZ03r"
      },
      "execution_count": 51,
      "outputs": []
    },
    {
      "cell_type": "markdown",
      "metadata": {
        "id": "1vszkxQsaMBE"
      },
      "source": [
        "\n",
        "We will now define a custom loss function that combines the quantile loss for the different quantiles and the Kullback-Leibler (KL) divergence for the VAE, then compile the model:\n",
        "\n"
      ]
    },
    {
      "cell_type": "code",
      "source": [
        "def weighted_quantile_loss(q, y_true, y_pred, sample_weight):\n",
        "    e = y_true - y_pred\n",
        "    return K.mean(sample_weight * K.maximum(q*e, (q-1)*e), axis=-1)\n",
        "\n",
        "# Modify this part in the model compilation\n",
        "reconstruction_loss = sum(weighted_quantile_loss(q, y_true, y_pred, sample_weight) for q, y_true, y_pred, sample_weight in zip(quantiles, y_train, outputs, weights))\n",
        "\n",
        "# Rest of the model compilation and training remains the same\n",
        "kl_loss = 1 + z_log_var - K.square(z_mean) - K.exp(z_log_var)\n",
        "kl_loss = K.sum(kl_loss, axis=-1)\n",
        "kl_loss *= -0.5\n",
        "vae_loss = K.mean(reconstruction_loss + kl_loss)\n",
        "vae.add_loss(vae_loss)\n",
        "vae.compile(optimizer=Adam())\n",
        "\n",
        "# vae.fit(X_train, epochs=10, batch_size=32)\n",
        "vae.fit(X_train,y_train, epochs=5, batch_size=32, sample_weight=weights)"
      ],
      "metadata": {
        "colab": {
          "base_uri": "https://localhost:8080/"
        },
        "id": "hgRYWflRf4od",
        "outputId": "59b8a069-840b-4b68-d3b0-921477e58c25"
      },
      "execution_count": 52,
      "outputs": [
        {
          "output_type": "stream",
          "name": "stdout",
          "text": [
            "Epoch 1/5\n",
            "23184/23184 [==============================] - 59s 2ms/step - loss: 111653715968.0000\n",
            "Epoch 2/5\n",
            "23184/23184 [==============================] - 55s 2ms/step - loss: 53.1857\n",
            "Epoch 3/5\n",
            "23184/23184 [==============================] - 55s 2ms/step - loss: 25.2925\n",
            "Epoch 4/5\n",
            "23184/23184 [==============================] - 56s 2ms/step - loss: 11.3473\n",
            "Epoch 5/5\n",
            "23184/23184 [==============================] - 55s 2ms/step - loss: 5.4309\n"
          ]
        },
        {
          "output_type": "execute_result",
          "data": {
            "text/plain": [
              "<keras.callbacks.History at 0x7fd687f06920>"
            ]
          },
          "metadata": {},
          "execution_count": 52
        }
      ]
    },
    {
      "cell_type": "code",
      "source": [
        "# Make predictions\n",
        "predictions = vae.predict(X_test)\n"
      ],
      "metadata": {
        "colab": {
          "base_uri": "https://localhost:8080/"
        },
        "id": "xy9hL-Jc7RQh",
        "outputId": "d5bad3be-ebec-4d4b-9c2f-15db558b3e48"
      },
      "execution_count": 55,
      "outputs": [
        {
          "output_type": "stream",
          "name": "stdout",
          "text": [
            "5796/5796 [==============================] - 10s 2ms/step\n"
          ]
        }
      ]
    },
    {
      "cell_type": "code",
      "source": [
        "# Prepare the predictions dataframe\n",
        "predictions_df = pd.DataFrame(test['id'])\n",
        "for i, q in enumerate(quantiles):\n",
        "    predictions_df[f'q{i+1}'] = scaler.inverse_transform(predictions[i]).flatten()\n",
        "    # scaler.inverse_transform(preds[:, i].reshape(-1, 1)).flatten()\n",
        "# Save the predictions\n",
        "predictions_df.to_csv('test_quantiles_VAE_weighted.csv', index=False)"
      ],
      "metadata": {
        "id": "U4TlhuOZ9JJR"
      },
      "execution_count": null,
      "outputs": []
    },
    {
      "cell_type": "markdown",
      "metadata": {
        "id": "HrwIK65OaEKE"
      },
      "source": [
        "In this code, vae.predict(X_test) will return a list of arrays, where each array is the prediction for a specific quantile. This is because when the VAE was defined, the output was a list of layers, one for each quantile.\n",
        "Then, for each quantile, we add the corresponding predictions to the predictions_df dataframe. The predictions are flattened to ensure they have the correct shape. Finally, the predictions are saved to a csv file."
      ]
    },
    {
      "cell_type": "code",
      "execution_count": null,
      "metadata": {
        "id": "7XDaJkS8lsml"
      },
      "outputs": [],
      "source": [
        "from google.colab import files\n",
        "files.download(\"test_quantiles_VAE_weighted.csv\")"
      ]
    },
    {
      "cell_type": "markdown",
      "metadata": {
        "id": "UHNylFW6rgXJ"
      },
      "source": [
        "# **Conclusion**\n",
        "The entire process of this project, from a rudimentary method yielding less than satisfactory outcomes to a more intricate approach, has been detailed in this document. The journey can be broadly segmented into the following steps:\n",
        "\n",
        "1.   Exploratory Analysis:\n",
        "      *   Analysing Data Metrics\n",
        "      *   Analysing target variable distribution\n",
        "      *   Analysis of Feature Interrelations\n",
        "\n",
        "2.   Preprocessing Data:\n",
        "      *   Handling missing values\n",
        "      *   Standardizing Variables\n",
        "      *   Handling Categorical and Ordinal Features\n",
        "\n",
        "3.   Quantile Regression:\n",
        "      *   Approach1: Quantile Regression via Statsmodels Library\n",
        "      *   Approach2: Gradient Boosting Regressor\n",
        "      *   Approach3: Deep-learning based approach\n",
        "      *   Approach4: Variational Autoencoders\n",
        "\n",
        "The results are separately attached."
      ]
    },
    {
      "cell_type": "markdown",
      "metadata": {
        "id": "k6f46gUTU6DV"
      },
      "source": [
        "**Discussion1:** A statement in the problem definition draws my attention:\n",
        "\n",
        " ***Notice that multiple age, education, race, and income are individual features of the reference person in a potential household while total expenses is a household-level variable***\n",
        "\n",
        "This suggests that the dataset may contain multiple rows for a single household, with each row representing a different individual in the household. A common way to handle this type of data is to aggregate individual-level data to the household level. Then we can compute the sum, mean, or other statistics of individual-level variables grouped by the household ID to get household-level features. For example, calculating the mean income and age per household. However, since the the customer id were unique, I was not sure what are the indicators of same family (wi?).\n"
      ]
    },
    {
      "cell_type": "code",
      "execution_count": null,
      "metadata": {
        "id": "xLg2l34hrx7L"
      },
      "outputs": [],
      "source": [
        "# Assume 'id' is the household identifier\n",
        "df_household = train.groupby('id').agg({\n",
        "    'age': ['mean', 'max', 'min'],\n",
        "    'education': ['mean', 'max', 'min'],\n",
        "    'income': ['mean', 'sum'],\n",
        "    'familysize': 'first',\n",
        "    'urban': 'first',\n",
        "    'region': 'first',\n",
        "    'state': 'first',\n",
        "    'monthly expense': 'first'\n",
        "}).reset_index()"
      ]
    },
    {
      "cell_type": "markdown",
      "metadata": {
        "id": "J1jvNfXvU8yD"
      },
      "source": [
        "**Discussion2:** in traditional Variational Autoencoder (VAE), the network is trained to reconstruct its input data, hence the input and output are indeed the same during training. There are other ways to solve regression using VAE with the same architecture.\n",
        "1.   One way is to joint regularization between the VAE and a neural-network regressor. Inference of model parameters leads to a combination between a traditional VAE network that models latent representations of data, and a regressor network that aims to predict expense. [Source](https://arxiv.org/abs/1904.05948)\n",
        "2.   There is alo another approach called Deep Quantile Regression for Uncertainty Estimation. [Source](https://arxiv.org/abs/2109.09374)\n",
        "\n",
        "Unfortunately, due to time constraints, I was unable to implement these approaches in the context of this specific problem."
      ]
    },
    {
      "cell_type": "markdown",
      "metadata": {
        "id": "YfdsPlxvbLtd"
      },
      "source": [
        "**Discussion3:** With regard to the deep learning-oriented method, I utilized a sequential dense architecture employing the 'relu' activation function Initially, I trained a model for each individual quantile. However, in a subsequent attempt to increase efficiency, I modified the architecture to facilitate simultaneous learning of all quantiles.  To discover the optimal configuration for NN'based approached (same for VAE) further experimentation is required."
      ]
    },
    {
      "cell_type": "markdown",
      "source": [
        "**Discussion4:** In quantile regression, outliers can have a significant impact on the estimation of quantiles. Applying appropriate techniques to handle outliers can improve the robustness and accuracy of our quantile regression model."
      ],
      "metadata": {
        "id": "nZFK0IE5XBc8"
      }
    }
  ],
  "metadata": {
    "accelerator": "TPU",
    "colab": {
      "machine_shape": "hm",
      "provenance": []
    },
    "kernelspec": {
      "display_name": "Python 3",
      "name": "python3"
    },
    "language_info": {
      "name": "python"
    }
  },
  "nbformat": 4,
  "nbformat_minor": 0
}